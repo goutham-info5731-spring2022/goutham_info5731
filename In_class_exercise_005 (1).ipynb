{
 "cells": [
  {
   "cell_type": "markdown",
   "metadata": {
    "colab_type": "text",
    "id": "view-in-github"
   },
   "source": [
    "<a href=\"https://colab.research.google.com/github/ShreshtaP/-Shreshta_INFO5731_-Fall2021/blob/main/In_class_exercise_05_1.ipynb\" target=\"_parent\"><img src=\"https://colab.research.google.com/assets/colab-badge.svg\" alt=\"Open In Colab\"/></a>"
   ]
  },
  {
   "cell_type": "markdown",
   "metadata": {
    "id": "1TA9fd_0sPLv"
   },
   "source": [
    "# **The fifth in-class-exercise (40 points in total, 04/12/2022)**"
   ]
  },
  {
   "cell_type": "markdown",
   "metadata": {
    "id": "cADCCg3gsPL0"
   },
   "source": [
    "(20 points) The purpose of the question is to practice different machine learning algorithms for text classification as well as the performance evaluation. In addition, you are requried to conduct *10 fold cross validation (https://scikit-learn.org/stable/modules/cross_validation.html)* in the training. \n",
    "\n",
    "The dataset can be download from here: https://github.com/unt-iialab/info5731-spring2022/blob/main/assignments/exercise05_datacollection.zip. The dataset contains two files train data and test data for sentiment analysis in IMDB review, it has two categories: 1 represents positive and 0 represents negative. You need to split the training data into training and validate data (80% for training and 20% for validation, https://towardsdatascience.com/train-test-split-and-cross-validation-in-python-80b61beca4b6) and perform 10 fold cross validation while training the classifier. The final trained model was final evaluated on the test data. \n",
    "\n",
    "Algorithms:\n",
    "\n",
    "(1) MultinominalNB\n",
    "\n",
    "(2) SVM \n",
    "\n",
    "(3) KNN \n",
    "\n",
    "(4) Decision tree\n",
    "\n",
    "(5) Random Forest\n",
    "\n",
    "(6) XGBoost\n",
    "\n",
    "Evaluation measurement:\n",
    "\n",
    "(1) Accuracy\n",
    "\n",
    "(2) Recall\n",
    "\n",
    "(3) Precison \n",
    "\n",
    "(4) F-1 score"
   ]
  },
  {
   "cell_type": "code",
   "execution_count": 3,
   "metadata": {
    "colab": {
     "base_uri": "https://localhost:8080/"
    },
    "id": "i-R7XLamsPL2",
    "outputId": "0c438247-5e4e-41b7-e7b8-191da6eec2bd"
   },
   "outputs": [
    {
     "name": "stdout",
     "output_type": "stream",
     "text": [
      "[nltk_data] Downloading package stopwords to /root/nltk_data...\n",
      "[nltk_data]   Package stopwords is already up-to-date!\n",
      "[nltk_data] Downloading package wordnet to /root/nltk_data...\n",
      "[nltk_data]   Package wordnet is already up-to-date!\n"
     ]
    },
    {
     "data": {
      "text/plain": [
       "True"
      ]
     },
     "execution_count": 3,
     "metadata": {},
     "output_type": "execute_result"
    }
   ],
   "source": [
    "# Write your code here\n",
    "import pandas as pd\n",
    "import nltk\n",
    "from nltk.corpus import stopwords\n",
    "import nltk\n",
    "nltk.download('stopwords')\n",
    "import re\n",
    "from nltk.stem import PorterStemmer\n",
    "from textblob import TextBlob\n",
    "from textblob import Word\n",
    "from sklearn.feature_extraction.text import TfidfVectorizer\n",
    "from sklearn import model_selection, svm\n",
    "from sklearn import naive_bayes\n",
    "from sklearn.metrics import accuracy_score, classification_report\n",
    "from sklearn.model_selection import cross_val_score, KFold\n",
    "from sklearn.neighbors import KNeighborsClassifier\n",
    "from sklearn.tree import DecisionTreeClassifier\n",
    "from sklearn.ensemble import RandomForestClassifier\n",
    "from xgboost import XGBClassifier\n",
    "nltk.download('wordnet')\n",
    "\n"
   ]
  },
  {
   "cell_type": "code",
   "execution_count": 4,
   "metadata": {
    "id": "UWCqVKyfs_38"
   },
   "outputs": [],
   "source": [
    "import warnings\n",
    "warnings.filterwarnings('ignore')"
   ]
  },
  {
   "cell_type": "code",
   "execution_count": 5,
   "metadata": {
    "id": "Fk8ibp2KtDmP"
   },
   "outputs": [],
   "source": [
    "def reading_data(file_path):\n",
    "  text_data, sentiments = [], []\n",
    "  file_data = open(file_path).read()\n",
    "  for i, j in enumerate(file_data.split(\"\\n\")):\n",
    "    after_split = j.split(' ')\n",
    "    text_data.append(\" \".join(after_split[1:]))\n",
    "    sentiments.append(after_split[0])\n",
    "  return text_data, sentiments"
   ]
  },
  {
   "cell_type": "code",
   "execution_count": 7,
   "metadata": {
    "id": "AaSxZlwAtIhV"
   },
   "outputs": [],
   "source": [
    "training_text_data, training_sentiments = reading_data('stsa-train.txt')\n",
    "training_df = pd.DataFrame(list(zip(training_sentiments, training_text_data)), columns = ['Sentimental Value', 'Raw Data'])\n",
    "testing_text_data, testing_sentiments = reading_data('stsa-test.txt')\n",
    "testing_df = pd.DataFrame(list(zip(testing_sentiments, testing_text_data)), columns = ['Sentimental Value', 'Raw Data'])"
   ]
  },
  {
   "cell_type": "code",
   "execution_count": 8,
   "metadata": {
    "id": "LHHju8DAtuAQ"
   },
   "outputs": [],
   "source": [
    "#Pre-processing\n",
    "#removal of special characters\n",
    "training_df['After noise removal'] = training_df['Raw Data'].apply(lambda x: ''.join(re.sub(r\"[^a-zA-Z0-9]+\", ' ', charctr) for charctr in x ))\n",
    "testing_df['After noise removal'] = testing_df['Raw Data'].apply(lambda x: ''.join(re.sub(r\"[^a-zA-Z0-9]+\", ' ', charctr) for charctr in x ))\n",
    "# removal of Punctuation\n",
    "training_df['Punctuation removal'] = training_df['After noise removal'].str.replace('[^\\w\\s]','')\n",
    "testing_df['Punctuation removal'] = testing_df['After noise removal'].str.replace('[^\\w\\s]','')\n",
    "# Stopwords removal\n",
    "stop_word = stopwords.words('english')\n",
    "training_df['Stopwords removal'] = training_df['Punctuation removal'].apply(lambda x: \" \".join(x for x in x.split() if x not in stop_word))\n",
    "testing_df['Stopwords removal'] = testing_df['Punctuation removal'].apply(lambda x: \" \".join(x for x in x.split() if x not in stop_word))\n",
    "# Lower Casing\n",
    "training_df['Lower casing'] = training_df['Stopwords removal'].apply(lambda x: \" \".join(x.lower() for x in x.split()))\n",
    "testing_df['Lower casing'] = testing_df['Stopwords removal'].apply(lambda x: \" \".join(x.lower() for x in x.split()))"
   ]
  },
  {
   "cell_type": "code",
   "execution_count": 9,
   "metadata": {
    "id": "TW1LTTH9tz_1"
   },
   "outputs": [],
   "source": [
    "tfidf_vector = TfidfVectorizer(analyzer = 'word')\n",
    "tfidf_vector.fit(training_df['Lower casing'])\n",
    "x =  tfidf_vector.transform(training_df['Lower casing'])\n",
    "tfidf_vector_test = TfidfVectorizer(analyzer='word', vocabulary = tfidf_vector.vocabulary_)\n",
    "tfidf_vector_test.fit(testing_df['Lower casing'])\n",
    "test_values_x = tfidf_vector_test.transform(testing_df['Lower casing'])"
   ]
  },
  {
   "cell_type": "code",
   "execution_count": 10,
   "metadata": {
    "id": "PSLruMd1t3vI"
   },
   "outputs": [],
   "source": [
    "xtrain, xvalid, ytrain, yvalid = model_selection.train_test_split(x, training_df['Sentimental Value'],test_size=0.2)"
   ]
  },
  {
   "cell_type": "code",
   "execution_count": 11,
   "metadata": {
    "id": "6S5V4_sLt7a3"
   },
   "outputs": [],
   "source": [
    "def csv(model, x_data, y_data):\n",
    "  scoring = 'accuracy'\n",
    "  kfold = KFold(10, random_state = 7, shuffle=True)\n",
    "  return cross_val_score(model, x_data, y_data, cv=kfold).mean()"
   ]
  },
  {
   "cell_type": "code",
   "execution_count": 12,
   "metadata": {
    "id": "FJV45KRjt-j_"
   },
   "outputs": [],
   "source": [
    "def training_model(model_intializer):\n",
    "  model = model_intializer\n",
    "  model.fit(xtrain, ytrain)\n",
    "  predicted = model.predict(xvalid)\n",
    "  accuracy = accuracy_score(predicted, yvalid)\n",
    "  print(\"Accuracy of Traning data: {0}\".format(accuracy))\n",
    "  print(classification_report(yvalid, predicted))\n",
    "  predicted_testing = model.predict(test_values_x)\n",
    "  accuracy_testing = accuracy_score(predicted_testing, testing_df['Sentimental Value'])\n",
    "  print(\"Accuracy of Testing data: {0}\".format(accuracy_testing))\n",
    "  print(classification_report(testing_df['Sentimental Value'], predicted_testing))\n",
    "  if 'XGB' not in str(model):\n",
    "    print(\"Cross validation score obtained: {0}\".format(csv(model, test_values_x, testing_df['Sentimental Value'])))"
   ]
  },
  {
   "cell_type": "code",
   "execution_count": 13,
   "metadata": {
    "colab": {
     "base_uri": "https://localhost:8080/"
    },
    "id": "n7_q7lMluEGa",
    "outputId": "23fbca21-b2c1-4cec-ebd1-fb62e2cfac78"
   },
   "outputs": [
    {
     "name": "stdout",
     "output_type": "stream",
     "text": [
      "Accuracy of Traning data: 0.7790613718411552\n",
      "              precision    recall  f1-score   support\n",
      "\n",
      "           0       0.84      0.68      0.75       682\n",
      "           1       0.74      0.88      0.80       703\n",
      "\n",
      "    accuracy                           0.78      1385\n",
      "   macro avg       0.79      0.78      0.78      1385\n",
      "weighted avg       0.79      0.78      0.78      1385\n",
      "\n",
      "Accuracy of Testing data: 0.7870472008781558\n",
      "              precision    recall  f1-score   support\n",
      "\n",
      "                   0.00      0.00      0.00         1\n",
      "           0       0.86      0.68      0.76       912\n",
      "           1       0.74      0.89      0.81       909\n",
      "\n",
      "    accuracy                           0.79      1822\n",
      "   macro avg       0.53      0.53      0.52      1822\n",
      "weighted avg       0.80      0.79      0.78      1822\n",
      "\n",
      "Cross validation score obtained: 0.7365309553834145\n"
     ]
    }
   ],
   "source": [
    "training_model(naive_bayes.MultinomialNB())"
   ]
  },
  {
   "cell_type": "code",
   "execution_count": 14,
   "metadata": {
    "colab": {
     "base_uri": "https://localhost:8080/"
    },
    "id": "uOaQksAnuJok",
    "outputId": "9db022f5-d83f-4433-88d2-a3cc672225a9"
   },
   "outputs": [
    {
     "name": "stdout",
     "output_type": "stream",
     "text": [
      "Accuracy of Traning data: 0.7660649819494585\n",
      "              precision    recall  f1-score   support\n",
      "\n",
      "           0       0.80      0.70      0.75       682\n",
      "           1       0.74      0.83      0.78       703\n",
      "\n",
      "    accuracy                           0.77      1385\n",
      "   macro avg       0.77      0.77      0.76      1385\n",
      "weighted avg       0.77      0.77      0.76      1385\n",
      "\n",
      "Accuracy of Testing data: 0.7897914379802415\n",
      "              precision    recall  f1-score   support\n",
      "\n",
      "                   0.00      0.00      0.00         1\n",
      "           0       0.82      0.74      0.78       912\n",
      "           1       0.76      0.84      0.80       909\n",
      "\n",
      "    accuracy                           0.79      1822\n",
      "   macro avg       0.53      0.53      0.53      1822\n",
      "weighted avg       0.79      0.79      0.79      1822\n",
      "\n",
      "Cross validation score obtained: 0.7217017954722873\n"
     ]
    }
   ],
   "source": [
    "training_model(svm.SVC())"
   ]
  },
  {
   "cell_type": "code",
   "execution_count": 15,
   "metadata": {
    "colab": {
     "base_uri": "https://localhost:8080/"
    },
    "id": "BtNACeUfuOuB",
    "outputId": "36079a09-c067-48ea-a830-d55828f2c8a6"
   },
   "outputs": [
    {
     "name": "stdout",
     "output_type": "stream",
     "text": [
      "Accuracy of Traning data: 0.49747292418772565\n",
      "              precision    recall  f1-score   support\n",
      "\n",
      "           0       0.49      0.99      0.66       682\n",
      "           1       0.71      0.02      0.03       703\n",
      "\n",
      "    accuracy                           0.50      1385\n",
      "   macro avg       0.60      0.50      0.35      1385\n",
      "weighted avg       0.60      0.50      0.34      1385\n",
      "\n",
      "Accuracy of Testing data: 0.508781558726674\n",
      "              precision    recall  f1-score   support\n",
      "\n",
      "                   0.00      0.00      0.00         1\n",
      "           0       0.50      1.00      0.67       912\n",
      "           1       0.89      0.02      0.04       909\n",
      "\n",
      "    accuracy                           0.51      1822\n",
      "   macro avg       0.47      0.34      0.24      1822\n",
      "weighted avg       0.70      0.51      0.35      1822\n",
      "\n",
      "Cross validation score obtained: 0.5005464480874318\n"
     ]
    }
   ],
   "source": [
    "training_model(KNeighborsClassifier(n_neighbors = 5))"
   ]
  },
  {
   "cell_type": "code",
   "execution_count": 16,
   "metadata": {
    "colab": {
     "base_uri": "https://localhost:8080/"
    },
    "id": "V-S3eZd0uTIr",
    "outputId": "d05ee301-1057-4935-ec08-e39a30e26d96"
   },
   "outputs": [
    {
     "name": "stdout",
     "output_type": "stream",
     "text": [
      "Accuracy of Traning data: 0.6548736462093863\n",
      "              precision    recall  f1-score   support\n",
      "\n",
      "           0       0.64      0.67      0.66       682\n",
      "           1       0.67      0.64      0.65       703\n",
      "\n",
      "    accuracy                           0.65      1385\n",
      "   macro avg       0.66      0.66      0.65      1385\n",
      "weighted avg       0.66      0.65      0.65      1385\n",
      "\n",
      "Accuracy of Testing data: 0.6569703622392975\n",
      "              precision    recall  f1-score   support\n",
      "\n",
      "                   0.00      0.00      0.00         1\n",
      "           0       0.65      0.69      0.67       912\n",
      "           1       0.67      0.63      0.65       909\n",
      "\n",
      "    accuracy                           0.66      1822\n",
      "   macro avg       0.44      0.44      0.44      1822\n",
      "weighted avg       0.66      0.66      0.66      1822\n",
      "\n",
      "Cross validation score obtained: 0.6169218759382693\n"
     ]
    }
   ],
   "source": [
    "training_model(DecisionTreeClassifier())"
   ]
  },
  {
   "cell_type": "code",
   "execution_count": 17,
   "metadata": {
    "colab": {
     "base_uri": "https://localhost:8080/"
    },
    "id": "Aoe8ExJQuZyG",
    "outputId": "fed76839-9cf4-4097-d0b1-e9705b8b6e34"
   },
   "outputs": [
    {
     "name": "stdout",
     "output_type": "stream",
     "text": [
      "Accuracy of Traning data: 0.7111913357400722\n",
      "              precision    recall  f1-score   support\n",
      "\n",
      "           0       0.71      0.71      0.71       682\n",
      "           1       0.72      0.72      0.72       703\n",
      "\n",
      "    accuracy                           0.71      1385\n",
      "   macro avg       0.71      0.71      0.71      1385\n",
      "weighted avg       0.71      0.71      0.71      1385\n",
      "\n",
      "Accuracy of Testing data: 0.7349066959385291\n",
      "              precision    recall  f1-score   support\n",
      "\n",
      "                   0.00      0.00      0.00         1\n",
      "           0       0.73      0.75      0.74       912\n",
      "           1       0.74      0.72      0.73       909\n",
      "\n",
      "    accuracy                           0.73      1822\n",
      "   macro avg       0.49      0.49      0.49      1822\n",
      "weighted avg       0.73      0.73      0.73      1822\n",
      "\n",
      "Cross validation score obtained: 0.6542424788326427\n"
     ]
    }
   ],
   "source": [
    "training_model(RandomForestClassifier())"
   ]
  },
  {
   "cell_type": "code",
   "execution_count": 18,
   "metadata": {
    "colab": {
     "base_uri": "https://localhost:8080/"
    },
    "id": "5pUB1MtrugST",
    "outputId": "6f46e86c-b47f-4fda-810f-c148c0e4f5a2"
   },
   "outputs": [
    {
     "name": "stdout",
     "output_type": "stream",
     "text": [
      "Accuracy of Traning data: 0.6072202166064982\n",
      "              precision    recall  f1-score   support\n",
      "\n",
      "           0       0.69      0.37      0.48       682\n",
      "           1       0.58      0.83      0.68       703\n",
      "\n",
      "    accuracy                           0.61      1385\n",
      "   macro avg       0.63      0.60      0.58      1385\n",
      "weighted avg       0.63      0.61      0.58      1385\n",
      "\n",
      "Accuracy of Testing data: 0.6514818880351262\n",
      "              precision    recall  f1-score   support\n",
      "\n",
      "                   0.00      0.00      0.00         1\n",
      "           0       0.75      0.46      0.57       912\n",
      "           1       0.61      0.85      0.71       909\n",
      "\n",
      "    accuracy                           0.65      1822\n",
      "   macro avg       0.45      0.43      0.43      1822\n",
      "weighted avg       0.68      0.65      0.64      1822\n",
      "\n",
      "Cross validation score obtained: 0.6059220231822973\n"
     ]
    }
   ],
   "source": [
    "training_model(XGBClassifier())\n",
    "scoring = 'accuracy'\n",
    "kfold = KFold(10, random_state = 7, shuffle=True)\n",
    "print(\"Cross validation score obtained: {0}\".format(cross_val_score(XGBClassifier(), test_values_x, testing_df['Sentimental Value']).mean()))"
   ]
  },
  {
   "cell_type": "markdown",
   "metadata": {
    "id": "tNgZqUYjsPL3"
   },
   "source": [
    "(20 points) The purpose of the question is to practice different machine learning algorithms for text clustering\n",
    "Please downlad the dataset by using the following link.  https://www.kaggle.com/PromptCloudHQ/amazon-reviews-unlocked-mobile-phones\n",
    "(You can also use different text data which you want)\n",
    "\n",
    "Apply the listed clustering methods to the dataset:\n",
    "\n",
    "K means, \n",
    "DBSCAN,\n",
    "Hierarchical clustering. \n",
    "\n",
    "You can refer to of the codes from  the follwing link below. \n",
    "https://www.kaggle.com/karthik3890/text-clustering "
   ]
  },
  {
   "cell_type": "code",
   "execution_count": 39,
   "metadata": {
    "colab": {
     "base_uri": "https://localhost:8080/"
    },
    "id": "r_ViNjopsPL3",
    "outputId": "2c40c4fb-cf10-4617-cd5c-509340e17d5c"
   },
   "outputs": [
    {
     "name": "stdout",
     "output_type": "stream",
     "text": [
      "[nltk_data] Downloading package punkt to /root/nltk_data...\n",
      "[nltk_data]   Package punkt is already up-to-date!\n",
      "[nltk_data] Downloading package stopwords to /root/nltk_data...\n",
      "[nltk_data]   Package stopwords is already up-to-date!\n",
      "[nltk_data] Downloading package wordnet to /root/nltk_data...\n",
      "[nltk_data]   Package wordnet is already up-to-date!\n"
     ]
    },
    {
     "data": {
      "text/plain": [
       "True"
      ]
     },
     "execution_count": 39,
     "metadata": {},
     "output_type": "execute_result"
    }
   ],
   "source": [
    "#import libraries\n",
    "import pandas as pd\n",
    "from nltk.corpus import stopwords\n",
    "import nltk\n",
    "nltk.download('punkt')\n",
    "nltk.download('stopwords')\n",
    "import re\n",
    "from textblob import TextBlob\n",
    "from nltk.stem import PorterStemmer\n",
    "from textblob import Word\n",
    "nltk.download('wordnet')"
   ]
  },
  {
   "cell_type": "code",
   "execution_count": 40,
   "metadata": {
    "id": "-xSSMK3bxyll"
   },
   "outputs": [],
   "source": [
    "\n",
    "data_df = pd.read_csv('Amazon_Unlocked_Mobile.csv')"
   ]
  },
  {
   "cell_type": "code",
   "execution_count": 41,
   "metadata": {
    "colab": {
     "base_uri": "https://localhost:8080/"
    },
    "id": "tCoenSNpz5fr",
    "outputId": "57b65a49-4254-4eb1-d0ed-19db1434b2c5"
   },
   "outputs": [
    {
     "name": "stdout",
     "output_type": "stream",
     "text": [
      "Shape: (260872, 6)\n"
     ]
    }
   ],
   "source": [
    "# OBSERVATIONS\n",
    "print(\"Shape: {0}\".format(data_df.shape))"
   ]
  },
  {
   "cell_type": "code",
   "execution_count": 42,
   "metadata": {
    "colab": {
     "base_uri": "https://localhost:8080/",
     "height": 606
    },
    "id": "HcxHlZtw0JYd",
    "outputId": "6e4a53e9-7cc6-4909-a8ab-e2cdafeef45a"
   },
   "outputs": [
    {
     "data": {
      "text/html": [
       "<div>\n",
       "<style scoped>\n",
       "    .dataframe tbody tr th:only-of-type {\n",
       "        vertical-align: middle;\n",
       "    }\n",
       "\n",
       "    .dataframe tbody tr th {\n",
       "        vertical-align: top;\n",
       "    }\n",
       "\n",
       "    .dataframe thead th {\n",
       "        text-align: right;\n",
       "    }\n",
       "</style>\n",
       "<table border=\"1\" class=\"dataframe\">\n",
       "  <thead>\n",
       "    <tr style=\"text-align: right;\">\n",
       "      <th></th>\n",
       "      <th>Product Name</th>\n",
       "      <th>Brand Name</th>\n",
       "      <th>Price</th>\n",
       "      <th>Rating</th>\n",
       "      <th>Reviews</th>\n",
       "      <th>Review Votes</th>\n",
       "    </tr>\n",
       "  </thead>\n",
       "  <tbody>\n",
       "    <tr>\n",
       "      <th>0</th>\n",
       "      <td>\"CLEAR CLEAN ESN\" Sprint EPIC 4G Galaxy SPH-D7...</td>\n",
       "      <td>Samsung</td>\n",
       "      <td>199.99</td>\n",
       "      <td>5.0</td>\n",
       "      <td>I feel so LUCKY to have found this used (phone...</td>\n",
       "      <td>1.0</td>\n",
       "    </tr>\n",
       "    <tr>\n",
       "      <th>1</th>\n",
       "      <td>\"CLEAR CLEAN ESN\" Sprint EPIC 4G Galaxy SPH-D7...</td>\n",
       "      <td>Samsung</td>\n",
       "      <td>199.99</td>\n",
       "      <td>4.0</td>\n",
       "      <td>nice phone, nice up grade from my pantach revu...</td>\n",
       "      <td>0.0</td>\n",
       "    </tr>\n",
       "    <tr>\n",
       "      <th>2</th>\n",
       "      <td>\"CLEAR CLEAN ESN\" Sprint EPIC 4G Galaxy SPH-D7...</td>\n",
       "      <td>Samsung</td>\n",
       "      <td>199.99</td>\n",
       "      <td>5.0</td>\n",
       "      <td>Very pleased</td>\n",
       "      <td>0.0</td>\n",
       "    </tr>\n",
       "    <tr>\n",
       "      <th>3</th>\n",
       "      <td>\"CLEAR CLEAN ESN\" Sprint EPIC 4G Galaxy SPH-D7...</td>\n",
       "      <td>Samsung</td>\n",
       "      <td>199.99</td>\n",
       "      <td>4.0</td>\n",
       "      <td>It works good but it goes slow sometimes but i...</td>\n",
       "      <td>0.0</td>\n",
       "    </tr>\n",
       "    <tr>\n",
       "      <th>4</th>\n",
       "      <td>\"CLEAR CLEAN ESN\" Sprint EPIC 4G Galaxy SPH-D7...</td>\n",
       "      <td>Samsung</td>\n",
       "      <td>199.99</td>\n",
       "      <td>4.0</td>\n",
       "      <td>Great phone to replace my lost phone. The only...</td>\n",
       "      <td>0.0</td>\n",
       "    </tr>\n",
       "    <tr>\n",
       "      <th>...</th>\n",
       "      <td>...</td>\n",
       "      <td>...</td>\n",
       "      <td>...</td>\n",
       "      <td>...</td>\n",
       "      <td>...</td>\n",
       "      <td>...</td>\n",
       "    </tr>\n",
       "    <tr>\n",
       "      <th>995</th>\n",
       "      <td>5.5-Inch Unlocked Lenovo A850 3G Smartphone-(9...</td>\n",
       "      <td>NaN</td>\n",
       "      <td>161.06</td>\n",
       "      <td>3.0</td>\n",
       "      <td>It's a decent for the price.. I've had this on...</td>\n",
       "      <td>0.0</td>\n",
       "    </tr>\n",
       "    <tr>\n",
       "      <th>996</th>\n",
       "      <td>5.5-Inch Unlocked Lenovo A850 3G Smartphone-(9...</td>\n",
       "      <td>NaN</td>\n",
       "      <td>161.06</td>\n",
       "      <td>3.0</td>\n",
       "      <td>Is good cell phone</td>\n",
       "      <td>0.0</td>\n",
       "    </tr>\n",
       "    <tr>\n",
       "      <th>997</th>\n",
       "      <td>5.5-Inch Unlocked Lenovo A850 3G Smartphone-(9...</td>\n",
       "      <td>NaN</td>\n",
       "      <td>161.06</td>\n",
       "      <td>5.0</td>\n",
       "      <td>Amazing phone. Cables and case included, also ...</td>\n",
       "      <td>0.0</td>\n",
       "    </tr>\n",
       "    <tr>\n",
       "      <th>998</th>\n",
       "      <td>5.5-Inch Unlocked Lenovo A850 3G Smartphone-(9...</td>\n",
       "      <td>NaN</td>\n",
       "      <td>161.06</td>\n",
       "      <td>5.0</td>\n",
       "      <td>Excelent</td>\n",
       "      <td>0.0</td>\n",
       "    </tr>\n",
       "    <tr>\n",
       "      <th>999</th>\n",
       "      <td>5.5-Inch Unlocked Lenovo A850 3G Smartphone-(9...</td>\n",
       "      <td>NaN</td>\n",
       "      <td>161.06</td>\n",
       "      <td>5.0</td>\n",
       "      <td>Excellent, it meets the requirements requested</td>\n",
       "      <td>0.0</td>\n",
       "    </tr>\n",
       "  </tbody>\n",
       "</table>\n",
       "<p>1000 rows × 6 columns</p>\n",
       "</div>"
      ],
      "text/plain": [
       "                                          Product Name  ... Review Votes\n",
       "0    \"CLEAR CLEAN ESN\" Sprint EPIC 4G Galaxy SPH-D7...  ...          1.0\n",
       "1    \"CLEAR CLEAN ESN\" Sprint EPIC 4G Galaxy SPH-D7...  ...          0.0\n",
       "2    \"CLEAR CLEAN ESN\" Sprint EPIC 4G Galaxy SPH-D7...  ...          0.0\n",
       "3    \"CLEAR CLEAN ESN\" Sprint EPIC 4G Galaxy SPH-D7...  ...          0.0\n",
       "4    \"CLEAR CLEAN ESN\" Sprint EPIC 4G Galaxy SPH-D7...  ...          0.0\n",
       "..                                                 ...  ...          ...\n",
       "995  5.5-Inch Unlocked Lenovo A850 3G Smartphone-(9...  ...          0.0\n",
       "996  5.5-Inch Unlocked Lenovo A850 3G Smartphone-(9...  ...          0.0\n",
       "997  5.5-Inch Unlocked Lenovo A850 3G Smartphone-(9...  ...          0.0\n",
       "998  5.5-Inch Unlocked Lenovo A850 3G Smartphone-(9...  ...          0.0\n",
       "999  5.5-Inch Unlocked Lenovo A850 3G Smartphone-(9...  ...          0.0\n",
       "\n",
       "[1000 rows x 6 columns]"
      ]
     },
     "execution_count": 42,
     "metadata": {},
     "output_type": "execute_result"
    }
   ],
   "source": [
    "cluster_data_df = data_df.head(1000)\n",
    "cluster_data_df"
   ]
  },
  {
   "cell_type": "code",
   "execution_count": 43,
   "metadata": {
    "colab": {
     "base_uri": "https://localhost:8080/",
     "height": 1000
    },
    "id": "RlJK_5tO0MOS",
    "outputId": "bd5d6f11-377e-421d-9d48-08aa6c8d4542"
   },
   "outputs": [
    {
     "data": {
      "text/html": [
       "<div>\n",
       "<style scoped>\n",
       "    .dataframe tbody tr th:only-of-type {\n",
       "        vertical-align: middle;\n",
       "    }\n",
       "\n",
       "    .dataframe tbody tr th {\n",
       "        vertical-align: top;\n",
       "    }\n",
       "\n",
       "    .dataframe thead th {\n",
       "        text-align: right;\n",
       "    }\n",
       "</style>\n",
       "<table border=\"1\" class=\"dataframe\">\n",
       "  <thead>\n",
       "    <tr style=\"text-align: right;\">\n",
       "      <th></th>\n",
       "      <th>Product Name</th>\n",
       "      <th>Brand Name</th>\n",
       "      <th>Price</th>\n",
       "      <th>Rating</th>\n",
       "      <th>Reviews</th>\n",
       "      <th>Review Votes</th>\n",
       "      <th>After noise removal</th>\n",
       "      <th>Punctuation removal</th>\n",
       "      <th>Remove numbers</th>\n",
       "      <th>Stopwords removal</th>\n",
       "      <th>Lower casing</th>\n",
       "      <th>Tokenization</th>\n",
       "      <th>Stemming</th>\n",
       "      <th>Lemmatization</th>\n",
       "    </tr>\n",
       "  </thead>\n",
       "  <tbody>\n",
       "    <tr>\n",
       "      <th>0</th>\n",
       "      <td>\"CLEAR CLEAN ESN\" Sprint EPIC 4G Galaxy SPH-D7...</td>\n",
       "      <td>Samsung</td>\n",
       "      <td>199.99</td>\n",
       "      <td>5.0</td>\n",
       "      <td>I feel so LUCKY to have found this used (phone...</td>\n",
       "      <td>1.0</td>\n",
       "      <td>I feel so LUCKY to have found this used  phone...</td>\n",
       "      <td>I feel so LUCKY to have found this used  phone...</td>\n",
       "      <td>I feel so LUCKY to have found this used  phone...</td>\n",
       "      <td>I feel LUCKY found used phone us used hard pho...</td>\n",
       "      <td>i feel lucky found used phone us used hard pho...</td>\n",
       "      <td>[i, feel, lucky, found, used, phone, us, used,...</td>\n",
       "      <td>i feel lucki found use phone us use hard phone...</td>\n",
       "      <td>i feel lucki found use phone u use hard phone ...</td>\n",
       "    </tr>\n",
       "    <tr>\n",
       "      <th>1</th>\n",
       "      <td>\"CLEAR CLEAN ESN\" Sprint EPIC 4G Galaxy SPH-D7...</td>\n",
       "      <td>Samsung</td>\n",
       "      <td>199.99</td>\n",
       "      <td>4.0</td>\n",
       "      <td>nice phone, nice up grade from my pantach revu...</td>\n",
       "      <td>0.0</td>\n",
       "      <td>nice phone  nice up grade from my pantach revu...</td>\n",
       "      <td>nice phone  nice up grade from my pantach revu...</td>\n",
       "      <td>nice phone  nice up grade from my pantach revu...</td>\n",
       "      <td>nice phone nice grade pantach revue Very clean...</td>\n",
       "      <td>nice phone nice grade pantach revue very clean...</td>\n",
       "      <td>[nice, phone, nice, grade, pantach, revue, ver...</td>\n",
       "      <td>nice phone nice grade pantach revu veri clean ...</td>\n",
       "      <td>nice phone nice grade pantach revu veri clean ...</td>\n",
       "    </tr>\n",
       "    <tr>\n",
       "      <th>2</th>\n",
       "      <td>\"CLEAR CLEAN ESN\" Sprint EPIC 4G Galaxy SPH-D7...</td>\n",
       "      <td>Samsung</td>\n",
       "      <td>199.99</td>\n",
       "      <td>5.0</td>\n",
       "      <td>Very pleased</td>\n",
       "      <td>0.0</td>\n",
       "      <td>Very pleased</td>\n",
       "      <td>Very pleased</td>\n",
       "      <td>Very pleased</td>\n",
       "      <td>Very pleased</td>\n",
       "      <td>very pleased</td>\n",
       "      <td>[very, pleased]</td>\n",
       "      <td>veri pleas</td>\n",
       "      <td>veri plea</td>\n",
       "    </tr>\n",
       "    <tr>\n",
       "      <th>3</th>\n",
       "      <td>\"CLEAR CLEAN ESN\" Sprint EPIC 4G Galaxy SPH-D7...</td>\n",
       "      <td>Samsung</td>\n",
       "      <td>199.99</td>\n",
       "      <td>4.0</td>\n",
       "      <td>It works good but it goes slow sometimes but i...</td>\n",
       "      <td>0.0</td>\n",
       "      <td>It works good but it goes slow sometimes but i...</td>\n",
       "      <td>It works good but it goes slow sometimes but i...</td>\n",
       "      <td>It works good but it goes slow sometimes but i...</td>\n",
       "      <td>It works good goes slow sometimes good phone I...</td>\n",
       "      <td>it works good goes slow sometimes good phone i...</td>\n",
       "      <td>[it, works, good, goes, slow, sometimes, good,...</td>\n",
       "      <td>it work good goe slow sometim good phone i love</td>\n",
       "      <td>it work good goe slow sometim good phone i love</td>\n",
       "    </tr>\n",
       "    <tr>\n",
       "      <th>4</th>\n",
       "      <td>\"CLEAR CLEAN ESN\" Sprint EPIC 4G Galaxy SPH-D7...</td>\n",
       "      <td>Samsung</td>\n",
       "      <td>199.99</td>\n",
       "      <td>4.0</td>\n",
       "      <td>Great phone to replace my lost phone. The only...</td>\n",
       "      <td>0.0</td>\n",
       "      <td>Great phone to replace my lost phone  The only...</td>\n",
       "      <td>Great phone to replace my lost phone  The only...</td>\n",
       "      <td>Great phone to replace my lost phone  The only...</td>\n",
       "      <td>Great phone replace lost phone The thing volum...</td>\n",
       "      <td>great phone replace lost phone the thing volum...</td>\n",
       "      <td>[great, phone, replace, lost, phone, the, thin...</td>\n",
       "      <td>great phone replac lost phone the thing volum ...</td>\n",
       "      <td>great phone replac lost phone the thing volum ...</td>\n",
       "    </tr>\n",
       "    <tr>\n",
       "      <th>...</th>\n",
       "      <td>...</td>\n",
       "      <td>...</td>\n",
       "      <td>...</td>\n",
       "      <td>...</td>\n",
       "      <td>...</td>\n",
       "      <td>...</td>\n",
       "      <td>...</td>\n",
       "      <td>...</td>\n",
       "      <td>...</td>\n",
       "      <td>...</td>\n",
       "      <td>...</td>\n",
       "      <td>...</td>\n",
       "      <td>...</td>\n",
       "      <td>...</td>\n",
       "    </tr>\n",
       "    <tr>\n",
       "      <th>995</th>\n",
       "      <td>5.5-Inch Unlocked Lenovo A850 3G Smartphone-(9...</td>\n",
       "      <td>NaN</td>\n",
       "      <td>161.06</td>\n",
       "      <td>3.0</td>\n",
       "      <td>It's a decent for the price.. I've had this on...</td>\n",
       "      <td>0.0</td>\n",
       "      <td>It s a decent for the price   I ve had this on...</td>\n",
       "      <td>It s a decent for the price   I ve had this on...</td>\n",
       "      <td>It s a decent for the price   I ve had this on...</td>\n",
       "      <td>It decent price I one months The cons I pretty...</td>\n",
       "      <td>it decent price i one months the cons i pretty...</td>\n",
       "      <td>[it, decent, price, i, one, months, the, cons,...</td>\n",
       "      <td>it decent price i one month the con i pretti f...</td>\n",
       "      <td>it decent price i one month the con i pretti f...</td>\n",
       "    </tr>\n",
       "    <tr>\n",
       "      <th>996</th>\n",
       "      <td>5.5-Inch Unlocked Lenovo A850 3G Smartphone-(9...</td>\n",
       "      <td>NaN</td>\n",
       "      <td>161.06</td>\n",
       "      <td>3.0</td>\n",
       "      <td>Is good cell phone</td>\n",
       "      <td>0.0</td>\n",
       "      <td>Is good cell phone</td>\n",
       "      <td>Is good cell phone</td>\n",
       "      <td>Is good cell phone</td>\n",
       "      <td>Is good cell phone</td>\n",
       "      <td>is good cell phone</td>\n",
       "      <td>[is, good, cell, phone]</td>\n",
       "      <td>is good cell phone</td>\n",
       "      <td>is good cell phone</td>\n",
       "    </tr>\n",
       "    <tr>\n",
       "      <th>997</th>\n",
       "      <td>5.5-Inch Unlocked Lenovo A850 3G Smartphone-(9...</td>\n",
       "      <td>NaN</td>\n",
       "      <td>161.06</td>\n",
       "      <td>5.0</td>\n",
       "      <td>Amazing phone. Cables and case included, also ...</td>\n",
       "      <td>0.0</td>\n",
       "      <td>Amazing phone  Cables and case included  also ...</td>\n",
       "      <td>Amazing phone  Cables and case included  also ...</td>\n",
       "      <td>Amazing phone  Cables and case included  also ...</td>\n",
       "      <td>Amazing phone Cables case included also screen...</td>\n",
       "      <td>amazing phone cables case included also screen...</td>\n",
       "      <td>[amazing, phone, cables, case, included, also,...</td>\n",
       "      <td>amaz phone cabl case includ also screen pritec...</td>\n",
       "      <td>amaz phone cabl case includ also screen pritec...</td>\n",
       "    </tr>\n",
       "    <tr>\n",
       "      <th>998</th>\n",
       "      <td>5.5-Inch Unlocked Lenovo A850 3G Smartphone-(9...</td>\n",
       "      <td>NaN</td>\n",
       "      <td>161.06</td>\n",
       "      <td>5.0</td>\n",
       "      <td>Excelent</td>\n",
       "      <td>0.0</td>\n",
       "      <td>Excelent</td>\n",
       "      <td>Excelent</td>\n",
       "      <td>Excelent</td>\n",
       "      <td>Excelent</td>\n",
       "      <td>excelent</td>\n",
       "      <td>[excelent]</td>\n",
       "      <td>excel</td>\n",
       "      <td>excel</td>\n",
       "    </tr>\n",
       "    <tr>\n",
       "      <th>999</th>\n",
       "      <td>5.5-Inch Unlocked Lenovo A850 3G Smartphone-(9...</td>\n",
       "      <td>NaN</td>\n",
       "      <td>161.06</td>\n",
       "      <td>5.0</td>\n",
       "      <td>Excellent, it meets the requirements requested</td>\n",
       "      <td>0.0</td>\n",
       "      <td>Excellent  it meets the requirements requested</td>\n",
       "      <td>Excellent  it meets the requirements requested</td>\n",
       "      <td>Excellent  it meets the requirements requested</td>\n",
       "      <td>Excellent meets requirements requested</td>\n",
       "      <td>excellent meets requirements requested</td>\n",
       "      <td>[excellent, meets, requirements, requested]</td>\n",
       "      <td>excel meet requir request</td>\n",
       "      <td>excel meet requir request</td>\n",
       "    </tr>\n",
       "  </tbody>\n",
       "</table>\n",
       "<p>1000 rows × 14 columns</p>\n",
       "</div>"
      ],
      "text/plain": [
       "                                          Product Name  ...                                      Lemmatization\n",
       "0    \"CLEAR CLEAN ESN\" Sprint EPIC 4G Galaxy SPH-D7...  ...  i feel lucki found use phone u use hard phone ...\n",
       "1    \"CLEAR CLEAN ESN\" Sprint EPIC 4G Galaxy SPH-D7...  ...  nice phone nice grade pantach revu veri clean ...\n",
       "2    \"CLEAR CLEAN ESN\" Sprint EPIC 4G Galaxy SPH-D7...  ...                                          veri plea\n",
       "3    \"CLEAR CLEAN ESN\" Sprint EPIC 4G Galaxy SPH-D7...  ...    it work good goe slow sometim good phone i love\n",
       "4    \"CLEAR CLEAN ESN\" Sprint EPIC 4G Galaxy SPH-D7...  ...  great phone replac lost phone the thing volum ...\n",
       "..                                                 ...  ...                                                ...\n",
       "995  5.5-Inch Unlocked Lenovo A850 3G Smartphone-(9...  ...  it decent price i one month the con i pretti f...\n",
       "996  5.5-Inch Unlocked Lenovo A850 3G Smartphone-(9...  ...                                 is good cell phone\n",
       "997  5.5-Inch Unlocked Lenovo A850 3G Smartphone-(9...  ...  amaz phone cabl case includ also screen pritec...\n",
       "998  5.5-Inch Unlocked Lenovo A850 3G Smartphone-(9...  ...                                              excel\n",
       "999  5.5-Inch Unlocked Lenovo A850 3G Smartphone-(9...  ...                          excel meet requir request\n",
       "\n",
       "[1000 rows x 14 columns]"
      ]
     },
     "execution_count": 43,
     "metadata": {},
     "output_type": "execute_result"
    }
   ],
   "source": [
    "# PRE PROCESSING\n",
    "\n",
    "# removal of special characters\n",
    "cluster_data_df['After noise removal'] = cluster_data_df['Reviews'].apply(lambda x: ''.join(re.sub(r\"[^a-zA-Z0-9]+\", ' ', charctr) for charctr in x ))\n",
    "\n",
    "#removal of punctations\n",
    "cluster_data_df['Punctuation removal'] = cluster_data_df['After noise removal'].str.replace('[^\\w\\s]','')\n",
    "\n",
    "# Removing numbers\n",
    "cluster_data_df['Remove numbers'] = cluster_data_df['Punctuation removal'].str.replace('\\d+', '')\n",
    "\n",
    "#removal of stopwords\n",
    "stop_word = stopwords.words('english')\n",
    "cluster_data_df['Stopwords removal'] = cluster_data_df['Remove numbers'].apply(lambda x: \" \".join(x for x in x.split() if x not in stop_word))\n",
    "\n",
    "# Lower Casing\n",
    "cluster_data_df['Lower casing'] = cluster_data_df['Stopwords removal'].apply(lambda x: \" \".join(x.lower() for x in x.split()))\n",
    "\n",
    "# Tokenization\n",
    "cluster_data_df['Tokenization'] = cluster_data_df['Lower casing'].apply(lambda x: TextBlob(x).words)\n",
    "\n",
    "# Stemming\n",
    "st = PorterStemmer()\n",
    "cluster_data_df['Stemming'] = cluster_data_df['Tokenization'].apply(lambda x: \" \".join([st.stem(word) for word in x]))\n",
    "\n",
    "# Lemmatization\n",
    "cluster_data_df['Lemmatization'] = cluster_data_df['Stemming'].apply(lambda x: \" \".join([Word(word).lemmatize() for word in x.split()]))\n",
    "cluster_data_df"
   ]
  },
  {
   "cell_type": "code",
   "execution_count": 44,
   "metadata": {
    "colab": {
     "base_uri": "https://localhost:8080/"
    },
    "id": "H2lLFV4w00NS",
    "outputId": "c4003956-de4e-4173-fdb3-46ac1cbe4bf2"
   },
   "outputs": [
    {
     "data": {
      "text/plain": [
       "(1000, 2483)"
      ]
     },
     "execution_count": 44,
     "metadata": {},
     "output_type": "execute_result"
    }
   ],
   "source": [
    "from sklearn.feature_extraction.text import TfidfVectorizer\n",
    "tfidf_vect = TfidfVectorizer()\n",
    "tfidf = tfidf_vect.fit_transform(cluster_data_df['Lemmatization'].values)\n",
    "tfidf.shape"
   ]
  },
  {
   "cell_type": "code",
   "execution_count": 45,
   "metadata": {
    "colab": {
     "base_uri": "https://localhost:8080/"
    },
    "id": "5m2I4joF03Vu",
    "outputId": "ce58de92-a35d-49f4-bb6a-3d39bda3c045"
   },
   "outputs": [
    {
     "data": {
      "text/plain": [
       "KMeans(algorithm='auto', copy_x=True, init='k-means++', max_iter=300,\n",
       "       n_clusters=10, n_init=10, n_jobs=-1, precompute_distances='auto',\n",
       "       random_state=99, tol=0.0001, verbose=0)"
      ]
     },
     "execution_count": 45,
     "metadata": {},
     "output_type": "execute_result"
    }
   ],
   "source": [
    "from sklearn.cluster import KMeans\n",
    "model_tf = KMeans(n_clusters = 10, n_jobs = -1,random_state=99)\n",
    "model_tf.fit(tfidf)"
   ]
  },
  {
   "cell_type": "code",
   "execution_count": 46,
   "metadata": {
    "colab": {
     "base_uri": "https://localhost:8080/"
    },
    "id": "FRq7yV-G05r4",
    "outputId": "d033436f-2b98-4042-b980-4714597c3018"
   },
   "outputs": [
    {
     "data": {
      "text/plain": [
       "array([[0.        , 0.        , 0.        , ..., 0.        , 0.        ,\n",
       "        0.        ],\n",
       "       [0.00044339, 0.00109302, 0.00746944, ..., 0.00648556, 0.00169077,\n",
       "        0.00070448],\n",
       "       [0.        , 0.        , 0.        , ..., 0.        , 0.        ,\n",
       "        0.        ],\n",
       "       ...,\n",
       "       [0.        , 0.        , 0.        , ..., 0.        , 0.        ,\n",
       "        0.        ],\n",
       "       [0.        , 0.        , 0.02834208, ..., 0.        , 0.        ,\n",
       "        0.        ],\n",
       "       [0.        , 0.        , 0.        , ..., 0.        , 0.        ,\n",
       "        0.        ]])"
      ]
     },
     "execution_count": 46,
     "metadata": {},
     "output_type": "execute_result"
    }
   ],
   "source": [
    "labels_tf = model_tf.labels_\n",
    "cluster_center_tf=model_tf.cluster_centers_\n",
    "cluster_center_tf"
   ]
  },
  {
   "cell_type": "code",
   "execution_count": 47,
   "metadata": {
    "id": "VIy4tnde0-yQ"
   },
   "outputs": [],
   "source": [
    "\n",
    "terms1 = tfidf_vect.get_feature_names()"
   ]
  },
  {
   "cell_type": "code",
   "execution_count": 48,
   "metadata": {
    "colab": {
     "base_uri": "https://localhost:8080/"
    },
    "id": "Pou9t2aI1AJQ",
    "outputId": "e2ecfd82-0ea5-4c2b-9333-2eb5d0f78adf"
   },
   "outputs": [
    {
     "data": {
      "text/plain": [
       "['abil',\n",
       " 'abl',\n",
       " 'ablebto',\n",
       " 'about',\n",
       " 'absolut',\n",
       " 'abysm',\n",
       " 'accent',\n",
       " 'accept',\n",
       " 'access']"
      ]
     },
     "execution_count": 48,
     "metadata": {},
     "output_type": "execute_result"
    }
   ],
   "source": [
    "terms1[1:10]"
   ]
  },
  {
   "cell_type": "code",
   "execution_count": 49,
   "metadata": {
    "colab": {
     "base_uri": "https://localhost:8080/"
    },
    "id": "uVJEdtrV1DSh",
    "outputId": "5fcbac71-47ac-4f56-815b-193589fcce2b"
   },
   "outputs": [
    {
     "data": {
      "text/plain": [
       "0.08767419501657137"
      ]
     },
     "execution_count": 49,
     "metadata": {},
     "output_type": "execute_result"
    }
   ],
   "source": [
    "from sklearn import metrics\n",
    "silhouette_score_tf = metrics.silhouette_score(tfidf, labels_tf, metric='euclidean')\n",
    "silhouette_score_tf"
   ]
  },
  {
   "cell_type": "code",
   "execution_count": 50,
   "metadata": {
    "colab": {
     "base_uri": "https://localhost:8080/",
     "height": 938
    },
    "id": "nFoIkhDU1Ht-",
    "outputId": "5a0de999-0dec-4e89-b78c-e1b4ccf32b3d"
   },
   "outputs": [
    {
     "data": {
      "text/html": [
       "<div>\n",
       "<style scoped>\n",
       "    .dataframe tbody tr th:only-of-type {\n",
       "        vertical-align: middle;\n",
       "    }\n",
       "\n",
       "    .dataframe tbody tr th {\n",
       "        vertical-align: top;\n",
       "    }\n",
       "\n",
       "    .dataframe thead th {\n",
       "        text-align: right;\n",
       "    }\n",
       "</style>\n",
       "<table border=\"1\" class=\"dataframe\">\n",
       "  <thead>\n",
       "    <tr style=\"text-align: right;\">\n",
       "      <th></th>\n",
       "      <th>Product Name</th>\n",
       "      <th>Brand Name</th>\n",
       "      <th>Price</th>\n",
       "      <th>Rating</th>\n",
       "      <th>Reviews</th>\n",
       "      <th>Review Votes</th>\n",
       "      <th>After noise removal</th>\n",
       "      <th>Punctuation removal</th>\n",
       "      <th>Remove numbers</th>\n",
       "      <th>Stopwords removal</th>\n",
       "      <th>Lower casing</th>\n",
       "      <th>Tokenization</th>\n",
       "      <th>Stemming</th>\n",
       "      <th>Lemmatization</th>\n",
       "      <th>Tfidf Clus Label</th>\n",
       "    </tr>\n",
       "  </thead>\n",
       "  <tbody>\n",
       "    <tr>\n",
       "      <th>0</th>\n",
       "      <td>\"CLEAR CLEAN ESN\" Sprint EPIC 4G Galaxy SPH-D7...</td>\n",
       "      <td>Samsung</td>\n",
       "      <td>199.99</td>\n",
       "      <td>5.0</td>\n",
       "      <td>I feel so LUCKY to have found this used (phone...</td>\n",
       "      <td>1.0</td>\n",
       "      <td>I feel so LUCKY to have found this used  phone...</td>\n",
       "      <td>I feel so LUCKY to have found this used  phone...</td>\n",
       "      <td>I feel so LUCKY to have found this used  phone...</td>\n",
       "      <td>I feel LUCKY found used phone us used hard pho...</td>\n",
       "      <td>i feel lucky found used phone us used hard pho...</td>\n",
       "      <td>[i, feel, lucky, found, used, phone, us, used,...</td>\n",
       "      <td>i feel lucki found use phone us use hard phone...</td>\n",
       "      <td>i feel lucki found use phone u use hard phone ...</td>\n",
       "      <td>1</td>\n",
       "    </tr>\n",
       "    <tr>\n",
       "      <th>1</th>\n",
       "      <td>\"CLEAR CLEAN ESN\" Sprint EPIC 4G Galaxy SPH-D7...</td>\n",
       "      <td>Samsung</td>\n",
       "      <td>199.99</td>\n",
       "      <td>4.0</td>\n",
       "      <td>nice phone, nice up grade from my pantach revu...</td>\n",
       "      <td>0.0</td>\n",
       "      <td>nice phone  nice up grade from my pantach revu...</td>\n",
       "      <td>nice phone  nice up grade from my pantach revu...</td>\n",
       "      <td>nice phone  nice up grade from my pantach revu...</td>\n",
       "      <td>nice phone nice grade pantach revue Very clean...</td>\n",
       "      <td>nice phone nice grade pantach revue very clean...</td>\n",
       "      <td>[nice, phone, nice, grade, pantach, revue, ver...</td>\n",
       "      <td>nice phone nice grade pantach revu veri clean ...</td>\n",
       "      <td>nice phone nice grade pantach revu veri clean ...</td>\n",
       "      <td>3</td>\n",
       "    </tr>\n",
       "    <tr>\n",
       "      <th>2</th>\n",
       "      <td>\"CLEAR CLEAN ESN\" Sprint EPIC 4G Galaxy SPH-D7...</td>\n",
       "      <td>Samsung</td>\n",
       "      <td>199.99</td>\n",
       "      <td>5.0</td>\n",
       "      <td>Very pleased</td>\n",
       "      <td>0.0</td>\n",
       "      <td>Very pleased</td>\n",
       "      <td>Very pleased</td>\n",
       "      <td>Very pleased</td>\n",
       "      <td>Very pleased</td>\n",
       "      <td>very pleased</td>\n",
       "      <td>[very, pleased]</td>\n",
       "      <td>veri pleas</td>\n",
       "      <td>veri plea</td>\n",
       "      <td>3</td>\n",
       "    </tr>\n",
       "    <tr>\n",
       "      <th>3</th>\n",
       "      <td>\"CLEAR CLEAN ESN\" Sprint EPIC 4G Galaxy SPH-D7...</td>\n",
       "      <td>Samsung</td>\n",
       "      <td>199.99</td>\n",
       "      <td>4.0</td>\n",
       "      <td>It works good but it goes slow sometimes but i...</td>\n",
       "      <td>0.0</td>\n",
       "      <td>It works good but it goes slow sometimes but i...</td>\n",
       "      <td>It works good but it goes slow sometimes but i...</td>\n",
       "      <td>It works good but it goes slow sometimes but i...</td>\n",
       "      <td>It works good goes slow sometimes good phone I...</td>\n",
       "      <td>it works good goes slow sometimes good phone i...</td>\n",
       "      <td>[it, works, good, goes, slow, sometimes, good,...</td>\n",
       "      <td>it work good goe slow sometim good phone i love</td>\n",
       "      <td>it work good goe slow sometim good phone i love</td>\n",
       "      <td>9</td>\n",
       "    </tr>\n",
       "    <tr>\n",
       "      <th>4</th>\n",
       "      <td>\"CLEAR CLEAN ESN\" Sprint EPIC 4G Galaxy SPH-D7...</td>\n",
       "      <td>Samsung</td>\n",
       "      <td>199.99</td>\n",
       "      <td>4.0</td>\n",
       "      <td>Great phone to replace my lost phone. The only...</td>\n",
       "      <td>0.0</td>\n",
       "      <td>Great phone to replace my lost phone  The only...</td>\n",
       "      <td>Great phone to replace my lost phone  The only...</td>\n",
       "      <td>Great phone to replace my lost phone  The only...</td>\n",
       "      <td>Great phone replace lost phone The thing volum...</td>\n",
       "      <td>great phone replace lost phone the thing volum...</td>\n",
       "      <td>[great, phone, replace, lost, phone, the, thin...</td>\n",
       "      <td>great phone replac lost phone the thing volum ...</td>\n",
       "      <td>great phone replac lost phone the thing volum ...</td>\n",
       "      <td>8</td>\n",
       "    </tr>\n",
       "  </tbody>\n",
       "</table>\n",
       "</div>"
      ],
      "text/plain": [
       "                                        Product Name  ... Tfidf Clus Label\n",
       "0  \"CLEAR CLEAN ESN\" Sprint EPIC 4G Galaxy SPH-D7...  ...                1\n",
       "1  \"CLEAR CLEAN ESN\" Sprint EPIC 4G Galaxy SPH-D7...  ...                3\n",
       "2  \"CLEAR CLEAN ESN\" Sprint EPIC 4G Galaxy SPH-D7...  ...                3\n",
       "3  \"CLEAR CLEAN ESN\" Sprint EPIC 4G Galaxy SPH-D7...  ...                9\n",
       "4  \"CLEAR CLEAN ESN\" Sprint EPIC 4G Galaxy SPH-D7...  ...                8\n",
       "\n",
       "[5 rows x 15 columns]"
      ]
     },
     "execution_count": 50,
     "metadata": {},
     "output_type": "execute_result"
    }
   ],
   "source": [
    "#assigning a cluster to each text \n",
    "df1 = cluster_data_df\n",
    "df1['Tfidf Clus Label'] = model_tf.labels_\n",
    "df1.head(5)"
   ]
  },
  {
   "cell_type": "code",
   "execution_count": 51,
   "metadata": {
    "colab": {
     "base_uri": "https://localhost:8080/"
    },
    "id": "_II04ZWT1Jh6",
    "outputId": "15d55971-7a77-4174-fea2-cfa340ebd84f"
   },
   "outputs": [
    {
     "data": {
      "text/plain": [
       "Tfidf Clus Label\n",
       "0     12\n",
       "1    189\n",
       "2     52\n",
       "3    351\n",
       "4     21\n",
       "5     33\n",
       "6     47\n",
       "7     62\n",
       "8    172\n",
       "9     61\n",
       "Name: Reviews, dtype: int64"
      ]
     },
     "execution_count": 51,
     "metadata": {},
     "output_type": "execute_result"
    }
   ],
   "source": [
    "df1.groupby(['Tfidf Clus Label'])['Reviews'].count()"
   ]
  },
  {
   "cell_type": "code",
   "execution_count": 52,
   "metadata": {
    "colab": {
     "base_uri": "https://localhost:8080/"
    },
    "id": "AXeh61fU1OeF",
    "outputId": "efe158b0-1a59-4c70-9482-29003a18cd33"
   },
   "outputs": [
    {
     "name": "stdout",
     "output_type": "stream",
     "text": [
      "Top terms per cluster:\n",
      "Cluster 0: bueno\n",
      " muy\n",
      " excelent\n",
      " bien\n",
      " excelet\n",
      " gracia\n",
      " form\n",
      " forth\n",
      " freez\n",
      " freeli\n",
      "Cluster 1: phone\n",
      " it\n",
      " the\n",
      " use\n",
      " like\n",
      " screen\n",
      " review\n",
      " card\n",
      " camera\n",
      " good\n",
      "Cluster 2: excel\n",
      " product\n",
      " recommend\n",
      " seller\n",
      " thank\n",
      " phone\n",
      " fash\n",
      " function\n",
      " five\n",
      " cellphon\n",
      "Cluster 3: phone\n",
      " great\n",
      " good\n",
      " use\n",
      " expect\n",
      " it\n",
      " the\n",
      " like\n",
      " product\n",
      " thank\n",
      "Cluster 4: ok\n",
      " far\n",
      " wcdma\n",
      " it\n",
      " quit\n",
      " peopl\n",
      " someon\n",
      " buy\n",
      " slow\n",
      " phone\n",
      "Cluster 5: excelent\n",
      " telefono\n",
      " producto\n",
      " zip\n",
      " foundat\n",
      " freedom\n",
      " free\n",
      " freak\n",
      " frame\n",
      " fraction\n",
      "Cluster 6: love\n",
      " phone\n",
      " great\n",
      " use\n",
      " my\n",
      " like\n",
      " mom\n",
      " it\n",
      " easi\n",
      " buy\n",
      "Cluster 7: work\n",
      " bad\n",
      " item\n",
      " the\n",
      " it\n",
      " phone\n",
      " great\n",
      " die\n",
      " so\n",
      " put\n",
      "Cluster 8: phone\n",
      " work\n",
      " great\n",
      " charg\n",
      " call\n",
      " would\n",
      " return\n",
      " the\n",
      " sim\n",
      " card\n",
      "Cluster 9: good\n",
      " veri\n",
      " phone\n",
      " product\n",
      " price\n",
      " buy\n",
      " tank\n",
      " thank\n",
      " mobil\n",
      " recomend\n"
     ]
    }
   ],
   "source": [
    "\n",
    "print(\"Top terms per cluster:\")\n",
    "order_centroids = model_tf.cluster_centers_.argsort()[:, ::-1]\n",
    "for i in range(10):\n",
    "    print(\"Cluster %d:\" % i, end='')\n",
    "    for ind in order_centroids[i, :10]:\n",
    "        print(' %s' % terms1[ind], end='')\n",
    "        print()"
   ]
  },
  {
   "cell_type": "code",
   "execution_count": 53,
   "metadata": {
    "colab": {
     "base_uri": "https://localhost:8080/",
     "height": 295
    },
    "id": "Irv0YrNV1QQs",
    "outputId": "665434ff-8d77-4a7d-a8f9-de792e58b569"
   },
   "outputs": [
    {
     "data": {
      "image/png": "[encoded data removed]",
      "text/plain": [
       "<Figure size 432x288 with 1 Axes>"
      ]
     },
     "metadata": {
      "needs_background": "light"
     },
     "output_type": "display_data"
    }
   ],
   "source": [
    "# visually representation of how points/reviews are distributed across 10 clusters \n",
    "\n",
    "import matplotlib.pyplot as plt\n",
    "plt.bar([x for x in range(10)], df1.groupby(['Tfidf Clus Label'])['Reviews'].count(), alpha = 0.4)\n",
    "plt.title('KMeans cluster points')\n",
    "plt.xlabel(\"Cluster number\")\n",
    "plt.ylabel(\"Number of points\")\n",
    "plt.show()"
   ]
  },
  {
   "cell_type": "code",
   "execution_count": 54,
   "metadata": {
    "colab": {
     "base_uri": "https://localhost:8080/"
    },
    "id": "t0eehghm1T-L",
    "outputId": "df79f89b-fc3a-4755-cca1-3ce2acb20ed5"
   },
   "outputs": [
    {
     "name": "stdout",
     "output_type": "stream",
     "text": [
      "4 review of assigned to cluster  0\n",
      "----------------------------------------------------------------------\n",
      "MUY BUENO\n",
      "\n",
      "\n",
      "muy bien\n",
      "\n",
      "\n",
      "excelente muy bueno\n",
      "\n",
      "\n",
      "______________________________________________________________________\n",
      "4 review of assigned to cluster  1\n",
      "----------------------------------------------------------------------\n",
      "I feel so LUCKY to have found this used (phone to us & not used hard at all), phone on line from someone who upgraded and sold this one. My Son liked his old one that finally fell apart after 2.5+ years and didn't want an upgrade!! Thank you Seller, we really appreciate it & your honesty re: said used phone.I recommend this seller very highly & would but from them again!!\n",
      "\n",
      "\n",
      "Just... not good. The phone has great screen resolution, storage is low, you need an SD card to do anything. May have a clear ESN but don't expect to use it with things like Freedompop.\n",
      "\n",
      "\n",
      "Nokia Asha 302 Unlocked GSM Phone with 3.2MP Camera, Video, QWERTYDependableTraditional Nokia Menu'sNot Complicated like 'Smart Phones'DurableEasy to use on Straighttalk, Internet, WiFi, Bluetooth.\n",
      "\n",
      "\n",
      "______________________________________________________________________\n",
      "4 review of assigned to cluster  2\n",
      "----------------------------------------------------------------------\n",
      "excellent product in perfect condition\n",
      "\n",
      "\n",
      "Excellent phone has all the special functions to be communicated with all social networks, excellent operational...I recommend it 100% excellent product\n",
      "\n",
      "\n",
      "Excelent\n",
      "\n",
      "\n",
      "______________________________________________________________________\n",
      "4 review of assigned to cluster  3\n",
      "----------------------------------------------------------------------\n",
      "nice phone, nice up grade from my pantach revue. Very clean set up and easy set up. never had an android phone but they are fantastic to say the least. perfect size for surfing and social media. great phone samsung\n",
      "\n",
      "\n",
      "This is a great product it came after two days of ordering it. There was only one little blemish on the side,but who cares as long as the phone is fullly functional.i recommend this product to anyone reading this.\n",
      "\n",
      "\n",
      "the phone was great and in good condition. My Daughter is so happy the be a andriod user now !!!!!!!!!!!!!!!!!!!!!!!!!!!!!!!\n",
      "\n",
      "\n",
      "______________________________________________________________________\n",
      "4 review of assigned to cluster  4\n",
      "----------------------------------------------------------------------\n",
      "I have to say that it is a ok phone. I don't like the keyboard. There is only 5 or 6 language options, no Korean and Chinese.\n",
      "\n",
      "\n",
      "Ok phone I buy for someone\n",
      "\n",
      "\n",
      "OK so far\n",
      "\n",
      "\n",
      "______________________________________________________________________\n",
      "4 review of assigned to cluster  5\n",
      "----------------------------------------------------------------------\n",
      "excelente\n",
      "\n",
      "\n",
      "Excelente\n",
      "\n",
      "\n",
      "excelente\n",
      "\n",
      "\n",
      "______________________________________________________________________\n",
      "4 review of assigned to cluster  6\n",
      "----------------------------------------------------------------------\n",
      "I like these phone I bought it for my mom and she loves it\n",
      "\n",
      "\n",
      "I bouht this phone for my 82 year old mother who has macular degeneration, she loves it. It is very easy and she can see the big numbers for dialing and such.\n",
      "\n",
      "\n",
      "this phone met all our expectations, my dad loved it and is enjoying it!\n",
      "\n",
      "\n",
      "______________________________________________________________________\n",
      "4 review of assigned to cluster  7\n",
      "----------------------------------------------------------------------\n",
      "Phone works great. No problems at all\n",
      "\n",
      "\n",
      "but did not work with Iwirless\n",
      "\n",
      "\n",
      "these work nice for the price and that is why i bought so many\n",
      "\n",
      "\n",
      "______________________________________________________________________\n",
      "4 review of assigned to cluster  8\n",
      "----------------------------------------------------------------------\n",
      "Great phone to replace my lost phone. The only thing is the volume up button does not work, but I can still go into settings to adjust. Other than that, it does the job until I am eligible to upgrade my phone again.Thaanks!\n",
      "\n",
      "\n",
      "I brought this phone as a replacement for my daughter, who is very hard on cell phones. I must say it was a great purchase. The phone work wonderful. Thank you\n",
      "\n",
      "\n",
      "This phone is trapped in 2001, if you want a simple phone get an old school flip phone. If you want something also for work get a blackberry or somthing new. This isn't even in the middle of those two, it's in another dimension. Nothing but frustration with this phone.\n",
      "\n",
      "\n",
      "______________________________________________________________________\n",
      "4 review of assigned to cluster  9\n",
      "----------------------------------------------------------------------\n",
      "It works good but it goes slow sometimes but its a very good phone I love it\n",
      "\n",
      "\n",
      "Is a good product That I recomended it has all you will need, it's fast good looking very good,thank you\n",
      "\n",
      "\n",
      "Good phone\n",
      "\n",
      "\n",
      "______________________________________________________________________\n"
     ]
    }
   ],
   "source": [
    "#Reading a review belonging to each group.\n",
    "\n",
    "for i in range(10):\n",
    "    print(\"4 review of assigned to cluster \", i)\n",
    "    print(\"-\" * 70)\n",
    "    print(df1.iloc[df1.groupby(['Tfidf Clus Label']).groups[i][0]]['Reviews'])\n",
    "    print('\\n')\n",
    "    print(df1.iloc[df1.groupby(['Tfidf Clus Label']).groups[i][5]]['Reviews'])\n",
    "    print('\\n')\n",
    "    print(df1.iloc[df1.groupby(['Tfidf Clus Label']).groups[i][10]]['Reviews'])\n",
    "    print('\\n')\n",
    "    print(\"_\" * 70)"
   ]
  },
  {
   "cell_type": "code",
   "execution_count": 55,
   "metadata": {
    "colab": {
     "base_uri": "https://localhost:8080/"
    },
    "id": "91Dzh57t1ZCn",
    "outputId": "37c3cfe9-946b-4f59-a0b7-de58ac0971b6"
   },
   "outputs": [
    {
     "data": {
      "text/plain": [
       "(1000, 3455)"
      ]
     },
     "execution_count": 55,
     "metadata": {},
     "output_type": "execute_result"
    }
   ],
   "source": [
    "#K-means - Method 2 \n",
    "# Generating bag of words features.\n",
    "from sklearn.feature_extraction.text import CountVectorizer\n",
    "count_vect = CountVectorizer()\n",
    "bow = count_vect.fit_transform(cluster_data_df['Reviews'].values)\n",
    "bow.shape"
   ]
  },
  {
   "cell_type": "code",
   "execution_count": 56,
   "metadata": {
    "colab": {
     "base_uri": "https://localhost:8080/"
    },
    "id": "s8TmaWz01ur7",
    "outputId": "390895b0-9d25-47fa-c376-cd36c258725d"
   },
   "outputs": [
    {
     "data": {
      "text/plain": [
       "KMeans(algorithm='auto', copy_x=True, init='k-means++', max_iter=300,\n",
       "       n_clusters=10, n_init=10, n_jobs=-1, precompute_distances='auto',\n",
       "       random_state=99, tol=0.0001, verbose=0)"
      ]
     },
     "execution_count": 56,
     "metadata": {},
     "output_type": "execute_result"
    }
   ],
   "source": [
    "from sklearn.cluster import KMeans\n",
    "model = KMeans(n_clusters = 10,init='k-means++', n_jobs = -1,random_state=99)\n",
    "model.fit(bow)"
   ]
  },
  {
   "cell_type": "code",
   "execution_count": 57,
   "metadata": {
    "id": "0PAU_gUg1xXr"
   },
   "outputs": [],
   "source": [
    "labels = model.labels_\n",
    "cluster_center=model.cluster_centers_"
   ]
  },
  {
   "cell_type": "code",
   "execution_count": 58,
   "metadata": {
    "colab": {
     "base_uri": "https://localhost:8080/"
    },
    "id": "8XCd-DQ910WE",
    "outputId": "c5d5b8d7-ebb7-49cb-c3b1-ab343ef4d66b"
   },
   "outputs": [
    {
     "name": "stdout",
     "output_type": "stream",
     "text": [
      "0.396624076509732\n"
     ]
    }
   ],
   "source": [
    "from sklearn import metrics\n",
    "print(metrics.silhouette_score(bow, labels, metric='euclidean'))"
   ]
  },
  {
   "cell_type": "code",
   "execution_count": 59,
   "metadata": {
    "colab": {
     "base_uri": "https://localhost:8080/",
     "height": 437
    },
    "id": "c5N2jrFX14w-",
    "outputId": "612e6913-f4b2-42ac-ebad-a7a5d19d15ec"
   },
   "outputs": [
    {
     "data": {
      "text/html": [
       "<div>\n",
       "<style scoped>\n",
       "    .dataframe tbody tr th:only-of-type {\n",
       "        vertical-align: middle;\n",
       "    }\n",
       "\n",
       "    .dataframe tbody tr th {\n",
       "        vertical-align: top;\n",
       "    }\n",
       "\n",
       "    .dataframe thead th {\n",
       "        text-align: right;\n",
       "    }\n",
       "</style>\n",
       "<table border=\"1\" class=\"dataframe\">\n",
       "  <thead>\n",
       "    <tr style=\"text-align: right;\">\n",
       "      <th></th>\n",
       "      <th>Product Name</th>\n",
       "      <th>Brand Name</th>\n",
       "      <th>Price</th>\n",
       "      <th>Rating</th>\n",
       "      <th>Reviews</th>\n",
       "      <th>Review Votes</th>\n",
       "      <th>After noise removal</th>\n",
       "      <th>Punctuation removal</th>\n",
       "      <th>Remove numbers</th>\n",
       "      <th>Stopwords removal</th>\n",
       "      <th>Lower casing</th>\n",
       "      <th>Tokenization</th>\n",
       "      <th>Stemming</th>\n",
       "      <th>Lemmatization</th>\n",
       "      <th>Tfidf Clus Label</th>\n",
       "      <th>Bow Clus Label</th>\n",
       "    </tr>\n",
       "  </thead>\n",
       "  <tbody>\n",
       "    <tr>\n",
       "      <th>0</th>\n",
       "      <td>\"CLEAR CLEAN ESN\" Sprint EPIC 4G Galaxy SPH-D7...</td>\n",
       "      <td>Samsung</td>\n",
       "      <td>199.99</td>\n",
       "      <td>5.0</td>\n",
       "      <td>I feel so LUCKY to have found this used (phone...</td>\n",
       "      <td>1.0</td>\n",
       "      <td>I feel so LUCKY to have found this used  phone...</td>\n",
       "      <td>I feel so LUCKY to have found this used  phone...</td>\n",
       "      <td>I feel so LUCKY to have found this used  phone...</td>\n",
       "      <td>I feel LUCKY found used phone us used hard pho...</td>\n",
       "      <td>i feel lucky found used phone us used hard pho...</td>\n",
       "      <td>[i, feel, lucky, found, used, phone, us, used,...</td>\n",
       "      <td>i feel lucki found use phone us use hard phone...</td>\n",
       "      <td>i feel lucki found use phone u use hard phone ...</td>\n",
       "      <td>1</td>\n",
       "      <td>5</td>\n",
       "    </tr>\n",
       "    <tr>\n",
       "      <th>1</th>\n",
       "      <td>\"CLEAR CLEAN ESN\" Sprint EPIC 4G Galaxy SPH-D7...</td>\n",
       "      <td>Samsung</td>\n",
       "      <td>199.99</td>\n",
       "      <td>4.0</td>\n",
       "      <td>nice phone, nice up grade from my pantach revu...</td>\n",
       "      <td>0.0</td>\n",
       "      <td>nice phone  nice up grade from my pantach revu...</td>\n",
       "      <td>nice phone  nice up grade from my pantach revu...</td>\n",
       "      <td>nice phone  nice up grade from my pantach revu...</td>\n",
       "      <td>nice phone nice grade pantach revue Very clean...</td>\n",
       "      <td>nice phone nice grade pantach revue very clean...</td>\n",
       "      <td>[nice, phone, nice, grade, pantach, revue, ver...</td>\n",
       "      <td>nice phone nice grade pantach revu veri clean ...</td>\n",
       "      <td>nice phone nice grade pantach revu veri clean ...</td>\n",
       "      <td>3</td>\n",
       "      <td>0</td>\n",
       "    </tr>\n",
       "  </tbody>\n",
       "</table>\n",
       "</div>"
      ],
      "text/plain": [
       "                                        Product Name  ... Bow Clus Label\n",
       "0  \"CLEAR CLEAN ESN\" Sprint EPIC 4G Galaxy SPH-D7...  ...              5\n",
       "1  \"CLEAR CLEAN ESN\" Sprint EPIC 4G Galaxy SPH-D7...  ...              0\n",
       "\n",
       "[2 rows x 16 columns]"
      ]
     },
     "execution_count": 59,
     "metadata": {},
     "output_type": "execute_result"
    }
   ],
   "source": [
    "cluster_data_df['Bow Clus Label'] = model.labels_ # the last column you can see the label numebers\n",
    "cluster_data_df.head(2)"
   ]
  },
  {
   "cell_type": "code",
   "execution_count": 60,
   "metadata": {
    "id": "P3UMoseA16SV"
   },
   "outputs": [],
   "source": [
    "#DBSCAN clustering \n",
    "from sklearn.cluster import DBSCAN\n",
    "import numpy as np"
   ]
  },
  {
   "cell_type": "code",
   "execution_count": 61,
   "metadata": {
    "id": "Zy_PuXXW2DUd"
   },
   "outputs": [],
   "source": [
    "# Computing 200th Nearest neighbour distance\n",
    "minPts = 2 * 100\n",
    "# Lower bound function copied from -> https://gist.github.com/m00nlight/0f9306b4d4e61ba0195f\n",
    "def lower_bound(nums, target): # This function return the number in the array just greater than or equal to itself.\n",
    "    l, r = 0, len(nums) - 1\n",
    "    while l <= r: # Binary searching.\n",
    "        mid = int(l + (r - l) / 2)\n",
    "        if nums[mid] >= target:\n",
    "            r = mid - 1\n",
    "        else:\n",
    "            l = mid + 1\n",
    "    return l\n",
    "\n",
    "def compute200thnearestneighbour(x, data): # Returns the distance of 200th nearest neighbour.\n",
    "    dists = []\n",
    "    for val in data:\n",
    "        dist = np.sum((x - val) **2 ) # computing distances.\n",
    "        if (len(dists) == 200 and dists[199] > dist): # If distance is larger than current largest distance found.\n",
    "          l = int(lower_bound(dists, dist)) # Using the lower bound function to get the right position.\n",
    "          if l < 200 and l >= 0 and dists[l] > dist:\n",
    "              dists[l] = dist\n",
    "        else:\n",
    "          dists.append(dist)\n",
    "          dists.sort()\n",
    "    \n",
    "    return dists[199] # Dist 199 contains the distance of 200th nearest neighbour."
   ]
  },
  {
   "cell_type": "code",
   "execution_count": 62,
   "metadata": {
    "id": "PElyCA2D2FbC"
   },
   "outputs": [],
   "source": [
    "list_of_trains_sent = list()\n",
    "\n",
    "for i in cluster_data_df[\"Lower casing\"].values:\n",
    "  list_of_trains_sent.append(i.split())"
   ]
  },
  {
   "cell_type": "code",
   "execution_count": 63,
   "metadata": {
    "id": "XDedr25V2Ipf"
   },
   "outputs": [],
   "source": [
    "import gensim\n",
    "w2v_model=gensim.models.Word2Vec(list_of_trains_sent, size=100, workers=4)"
   ]
  },
  {
   "cell_type": "code",
   "execution_count": 64,
   "metadata": {
    "id": "YmuV4iB92NrN"
   },
   "outputs": [],
   "source": [
    "import numpy as np\n",
    "The_sent_vectors = []; # the avg-w2v for each sentence/review is stored in this train\n",
    "count = 1\n",
    "for sent in list_of_sent_train: # for each review/sentence\n",
    "    The_sent_vec = np.zeros(100) # as word vectors are of zero length\n",
    "    The_cnt_words =1; # num of words with a valid vector in the sentence/review\n",
    "    for word in sent: # for each word in a review/sentence\n",
    "        try:\n",
    "            vec = w2v_model.wv[word]\n",
    "            The_sent_vec += vec\n",
    "            The_cnt_words += 1\n",
    "        except:\n",
    "            pass\n",
    "    The_sent_vec /= The_cnt_words\n",
    "    The_sent_vectors.append(sent_vec)\n",
    "The_sent_vectors = np.array(sent_vectors)\n",
    "The_sent_vectors = np.nan_to_num(sent_vectors)"
   ]
  },
  {
   "cell_type": "code",
   "execution_count": 65,
   "metadata": {
    "id": "e4UfkTvb2O8I"
   },
   "outputs": [],
   "source": [
    "#Computing the 200th nearest neighbour distance of some point the dataset:\n",
    "twohundrethneighbour = []\n",
    "for val in sent_vectors[:300]:\n",
    "    twohundrethneighbour.append(compute200thnearestneighbour(val, sent_vectors[:300]) )\n",
    "twohundrethneighbour.sort()"
   ]
  },
  {
   "cell_type": "code",
   "execution_count": 66,
   "metadata": {
    "colab": {
     "base_uri": "https://localhost:8080/"
    },
    "id": "7E2JR5Bv2SHp",
    "outputId": "68f75589-3102-42b5-bb24-e70414e3a679"
   },
   "outputs": [
    {
     "data": {
      "text/plain": [
       "DBSCAN(algorithm='auto', eps=5, leaf_size=30, metric='euclidean',\n",
       "       metric_params=None, min_samples=200, n_jobs=-1, p=None)"
      ]
     },
     "execution_count": 66,
     "metadata": {},
     "output_type": "execute_result"
    }
   ],
   "source": [
    "#Training DBSCAN :\n",
    "model = DBSCAN(eps = 5, min_samples = minPts, n_jobs=-1)\n",
    "model.fit(sent_vectors)"
   ]
  },
  {
   "cell_type": "code",
   "execution_count": 67,
   "metadata": {
    "colab": {
     "base_uri": "https://localhost:8080/",
     "height": 454
    },
    "id": "HIYsIBsu2U0p",
    "outputId": "04091d8b-96c5-420e-95c8-08e321e93044"
   },
   "outputs": [
    {
     "data": {
      "text/html": [
       "<div>\n",
       "<style scoped>\n",
       "    .dataframe tbody tr th:only-of-type {\n",
       "        vertical-align: middle;\n",
       "    }\n",
       "\n",
       "    .dataframe tbody tr th {\n",
       "        vertical-align: top;\n",
       "    }\n",
       "\n",
       "    .dataframe thead th {\n",
       "        text-align: right;\n",
       "    }\n",
       "</style>\n",
       "<table border=\"1\" class=\"dataframe\">\n",
       "  <thead>\n",
       "    <tr style=\"text-align: right;\">\n",
       "      <th></th>\n",
       "      <th>Product Name</th>\n",
       "      <th>Brand Name</th>\n",
       "      <th>Price</th>\n",
       "      <th>Rating</th>\n",
       "      <th>Reviews</th>\n",
       "      <th>Review Votes</th>\n",
       "      <th>After noise removal</th>\n",
       "      <th>Punctuation removal</th>\n",
       "      <th>Remove numbers</th>\n",
       "      <th>Stopwords removal</th>\n",
       "      <th>Lower casing</th>\n",
       "      <th>Tokenization</th>\n",
       "      <th>Stemming</th>\n",
       "      <th>Lemmatization</th>\n",
       "      <th>Tfidf Clus Label</th>\n",
       "      <th>Bow Clus Label</th>\n",
       "      <th>AVG-W2V Clus Label</th>\n",
       "    </tr>\n",
       "  </thead>\n",
       "  <tbody>\n",
       "    <tr>\n",
       "      <th>0</th>\n",
       "      <td>\"CLEAR CLEAN ESN\" Sprint EPIC 4G Galaxy SPH-D7...</td>\n",
       "      <td>Samsung</td>\n",
       "      <td>199.99</td>\n",
       "      <td>5.0</td>\n",
       "      <td>I feel so LUCKY to have found this used (phone...</td>\n",
       "      <td>1.0</td>\n",
       "      <td>I feel so LUCKY to have found this used  phone...</td>\n",
       "      <td>I feel so LUCKY to have found this used  phone...</td>\n",
       "      <td>I feel so LUCKY to have found this used  phone...</td>\n",
       "      <td>I feel LUCKY found used phone us used hard pho...</td>\n",
       "      <td>i feel lucky found used phone us used hard pho...</td>\n",
       "      <td>[i, feel, lucky, found, used, phone, us, used,...</td>\n",
       "      <td>i feel lucki found use phone us use hard phone...</td>\n",
       "      <td>i feel lucki found use phone u use hard phone ...</td>\n",
       "      <td>1</td>\n",
       "      <td>5</td>\n",
       "      <td>0</td>\n",
       "    </tr>\n",
       "    <tr>\n",
       "      <th>1</th>\n",
       "      <td>\"CLEAR CLEAN ESN\" Sprint EPIC 4G Galaxy SPH-D7...</td>\n",
       "      <td>Samsung</td>\n",
       "      <td>199.99</td>\n",
       "      <td>4.0</td>\n",
       "      <td>nice phone, nice up grade from my pantach revu...</td>\n",
       "      <td>0.0</td>\n",
       "      <td>nice phone  nice up grade from my pantach revu...</td>\n",
       "      <td>nice phone  nice up grade from my pantach revu...</td>\n",
       "      <td>nice phone  nice up grade from my pantach revu...</td>\n",
       "      <td>nice phone nice grade pantach revue Very clean...</td>\n",
       "      <td>nice phone nice grade pantach revue very clean...</td>\n",
       "      <td>[nice, phone, nice, grade, pantach, revue, ver...</td>\n",
       "      <td>nice phone nice grade pantach revu veri clean ...</td>\n",
       "      <td>nice phone nice grade pantach revu veri clean ...</td>\n",
       "      <td>3</td>\n",
       "      <td>0</td>\n",
       "      <td>0</td>\n",
       "    </tr>\n",
       "  </tbody>\n",
       "</table>\n",
       "</div>"
      ],
      "text/plain": [
       "                                        Product Name  ... AVG-W2V Clus Label\n",
       "0  \"CLEAR CLEAN ESN\" Sprint EPIC 4G Galaxy SPH-D7...  ...                  0\n",
       "1  \"CLEAR CLEAN ESN\" Sprint EPIC 4G Galaxy SPH-D7...  ...                  0\n",
       "\n",
       "[2 rows x 17 columns]"
      ]
     },
     "execution_count": 67,
     "metadata": {},
     "output_type": "execute_result"
    }
   ],
   "source": [
    "cluster_data_df['AVG-W2V Clus Label'] = model.labels_\n",
    "cluster_data_df.head(2)"
   ]
  },
  {
   "cell_type": "code",
   "execution_count": 68,
   "metadata": {
    "colab": {
     "base_uri": "https://localhost:8080/",
     "height": 282
    },
    "id": "FTqz5m5t2X6A",
    "outputId": "5a101975-8512-44d7-d711-1d7854cdadc6"
   },
   "outputs": [
    {
     "data": {
      "text/plain": [
       "<matplotlib.lines.Line2D at 0x7f634427e4d0>"
      ]
     },
     "execution_count": 68,
     "metadata": {},
     "output_type": "execute_result"
    },
    {
     "data": {
      "image/png": "[encoded data removed]",
      "text/plain": [
       "<Figure size 432x288 with 1 Axes>"
      ]
     },
     "metadata": {
      "needs_background": "light"
     },
     "output_type": "display_data"
    }
   ],
   "source": [
    "#Hierarchical Clustering \n",
    "import scipy\n",
    "from scipy.cluster import hierarchy\n",
    "dendro = hierarchy.dendrogram(hierarchy.linkage(sent_vectors,method = 'ward'))\n",
    "plt.axhline(y = 10) # cut at 30 to get 5 clusters"
   ]
  },
  {
   "cell_type": "code",
   "execution_count": 69,
   "metadata": {
    "id": "OidF0CF02qRe"
   },
   "outputs": [],
   "source": [
    "\n",
    "from sklearn.cluster import AgglomerativeClustering\n",
    "\n",
    "cluster = AgglomerativeClustering(n_clusters=5, affinity='euclidean', linkage='ward')  #took n=5 from dendrogram curve \n",
    "Agg=cluster.fit_predict(sent_vectors)"
   ]
  },
  {
   "cell_type": "code",
   "execution_count": 70,
   "metadata": {
    "colab": {
     "base_uri": "https://localhost:8080/",
     "height": 454
    },
    "id": "C4MhvfPy2tow",
    "outputId": "5b52a345-66a7-4901-ab3f-e576448ea8c6"
   },
   "outputs": [
    {
     "data": {
      "text/html": [
       "<div>\n",
       "<style scoped>\n",
       "    .dataframe tbody tr th:only-of-type {\n",
       "        vertical-align: middle;\n",
       "    }\n",
       "\n",
       "    .dataframe tbody tr th {\n",
       "        vertical-align: top;\n",
       "    }\n",
       "\n",
       "    .dataframe thead th {\n",
       "        text-align: right;\n",
       "    }\n",
       "</style>\n",
       "<table border=\"1\" class=\"dataframe\">\n",
       "  <thead>\n",
       "    <tr style=\"text-align: right;\">\n",
       "      <th></th>\n",
       "      <th>Product Name</th>\n",
       "      <th>Brand Name</th>\n",
       "      <th>Price</th>\n",
       "      <th>Rating</th>\n",
       "      <th>Reviews</th>\n",
       "      <th>Review Votes</th>\n",
       "      <th>After noise removal</th>\n",
       "      <th>Punctuation removal</th>\n",
       "      <th>Remove numbers</th>\n",
       "      <th>Stopwords removal</th>\n",
       "      <th>Lower casing</th>\n",
       "      <th>Tokenization</th>\n",
       "      <th>Stemming</th>\n",
       "      <th>Lemmatization</th>\n",
       "      <th>Tfidf Clus Label</th>\n",
       "      <th>Bow Clus Label</th>\n",
       "      <th>AVG-W2V Clus Label</th>\n",
       "    </tr>\n",
       "  </thead>\n",
       "  <tbody>\n",
       "    <tr>\n",
       "      <th>0</th>\n",
       "      <td>\"CLEAR CLEAN ESN\" Sprint EPIC 4G Galaxy SPH-D7...</td>\n",
       "      <td>Samsung</td>\n",
       "      <td>199.99</td>\n",
       "      <td>5.0</td>\n",
       "      <td>I feel so LUCKY to have found this used (phone...</td>\n",
       "      <td>1.0</td>\n",
       "      <td>I feel so LUCKY to have found this used  phone...</td>\n",
       "      <td>I feel so LUCKY to have found this used  phone...</td>\n",
       "      <td>I feel so LUCKY to have found this used  phone...</td>\n",
       "      <td>I feel LUCKY found used phone us used hard pho...</td>\n",
       "      <td>i feel lucky found used phone us used hard pho...</td>\n",
       "      <td>[i, feel, lucky, found, used, phone, us, used,...</td>\n",
       "      <td>i feel lucki found use phone us use hard phone...</td>\n",
       "      <td>i feel lucki found use phone u use hard phone ...</td>\n",
       "      <td>1</td>\n",
       "      <td>5</td>\n",
       "      <td>1</td>\n",
       "    </tr>\n",
       "    <tr>\n",
       "      <th>1</th>\n",
       "      <td>\"CLEAR CLEAN ESN\" Sprint EPIC 4G Galaxy SPH-D7...</td>\n",
       "      <td>Samsung</td>\n",
       "      <td>199.99</td>\n",
       "      <td>4.0</td>\n",
       "      <td>nice phone, nice up grade from my pantach revu...</td>\n",
       "      <td>0.0</td>\n",
       "      <td>nice phone  nice up grade from my pantach revu...</td>\n",
       "      <td>nice phone  nice up grade from my pantach revu...</td>\n",
       "      <td>nice phone  nice up grade from my pantach revu...</td>\n",
       "      <td>nice phone nice grade pantach revue Very clean...</td>\n",
       "      <td>nice phone nice grade pantach revue very clean...</td>\n",
       "      <td>[nice, phone, nice, grade, pantach, revue, ver...</td>\n",
       "      <td>nice phone nice grade pantach revu veri clean ...</td>\n",
       "      <td>nice phone nice grade pantach revu veri clean ...</td>\n",
       "      <td>3</td>\n",
       "      <td>0</td>\n",
       "      <td>1</td>\n",
       "    </tr>\n",
       "  </tbody>\n",
       "</table>\n",
       "</div>"
      ],
      "text/plain": [
       "                                        Product Name  ... AVG-W2V Clus Label\n",
       "0  \"CLEAR CLEAN ESN\" Sprint EPIC 4G Galaxy SPH-D7...  ...                  1\n",
       "1  \"CLEAR CLEAN ESN\" Sprint EPIC 4G Galaxy SPH-D7...  ...                  1\n",
       "\n",
       "[2 rows x 17 columns]"
      ]
     },
     "execution_count": 70,
     "metadata": {},
     "output_type": "execute_result"
    }
   ],
   "source": [
    "#Giving Labels/assigning a cluster to each point/text \n",
    "aggdfa = cluster_data_df\n",
    "aggdfa['AVG-W2V Clus Label'] = cluster.labels_\n",
    "aggdfa.head(2)"
   ]
  },
  {
   "cell_type": "code",
   "execution_count": 71,
   "metadata": {
    "colab": {
     "base_uri": "https://localhost:8080/"
    },
    "id": "qzACnjIH23x3",
    "outputId": "0ea6050f-3743-4bb2-98d4-db8a5b20a9ea"
   },
   "outputs": [
    {
     "data": {
      "text/plain": [
       "AVG-W2V Clus Label\n",
       "0    300\n",
       "1    287\n",
       "2    252\n",
       "3     62\n",
       "4     99\n",
       "Name: Reviews, dtype: int64"
      ]
     },
     "execution_count": 71,
     "metadata": {},
     "output_type": "execute_result"
    }
   ],
   "source": [
    "#Count of points belonging to each cluster ->\n",
    "aggdfa.groupby(['AVG-W2V Clus Label'])['Reviews'].count()"
   ]
  },
  {
   "cell_type": "code",
   "execution_count": 72,
   "metadata": {
    "colab": {
     "base_uri": "https://localhost:8080/"
    },
    "id": "D8DG6S-r25Ir",
    "outputId": "03b2d7ec-d708-4460-85f8-49ad8c6b5ce5"
   },
   "outputs": [
    {
     "name": "stdout",
     "output_type": "stream",
     "text": [
      "2 reviews of assigned to cluster  0\n",
      "----------------------------------------------------------------------\n",
      "unfortunately Sprint could not activate the phone due to the blocking issue with the phone, the matter was handled very well and quickly. Very satisfied with the service.\n",
      "\n",
      "\n",
      "pros-beautiful screen,capable of running chrome,take good pictures,the keyboard is comfy,fits in my pocket and fit my hands,plays really good videos and gamescons-no Bluetooth,came late,run down fast really quick,doesnt play 1080p videos.but I would still recommend it to those who like to talk and text a lot like me and watch a lot of movies\n",
      "\n",
      "\n",
      "______________________________________________________________________\n",
      "2 reviews of assigned to cluster  1\n",
      "----------------------------------------------------------------------\n",
      "I feel so LUCKY to have found this used (phone to us & not used hard at all), phone on line from someone who upgraded and sold this one. My Son liked his old one that finally fell apart after 2.5+ years and didn't want an upgrade!! Thank you Seller, we really appreciate it & your honesty re: said used phone.I recommend this seller very highly & would but from them again!!\n",
      "\n",
      "\n",
      "nice phone, nice up grade from my pantach revue. Very clean set up and easy set up. never had an android phone but they are fantastic to say the least. perfect size for surfing and social media. great phone samsung\n",
      "\n",
      "\n",
      "______________________________________________________________________\n",
      "2 reviews of assigned to cluster  2\n",
      "----------------------------------------------------------------------\n",
      "It works good but it goes slow sometimes but its a very good phone I love it\n",
      "\n",
      "\n",
      "Great phone to replace my lost phone. The only thing is the volume up button does not work, but I can still go into settings to adjust. Other than that, it does the job until I am eligible to upgrade my phone again.Thaanks!\n",
      "\n",
      "\n",
      "______________________________________________________________________\n",
      "2 reviews of assigned to cluster  3\n",
      "----------------------------------------------------------------------\n",
      "Very pleased\n",
      "\n",
      "\n",
      "as described, fast ship!\n",
      "\n",
      "\n",
      "______________________________________________________________________\n",
      "2 reviews of assigned to cluster  4\n",
      "----------------------------------------------------------------------\n",
      "excelente\n",
      "\n",
      "\n",
      "excelente\n",
      "\n",
      "\n",
      "______________________________________________________________________\n"
     ]
    }
   ],
   "source": [
    "#Reading a review which belong to each group.\n",
    "for i in range(5):\n",
    "    print(\"The two reviews of assigned to cluster \", i)\n",
    "    print(\"-\" * 70)\n",
    "    print(aggdfa.iloc[aggdfa.groupby(['AVG-W2V Clus Label']).groups[i][0]]['Reviews'])\n",
    "    print('\\n')\n",
    "    print(aggdfa.iloc[aggdfa.groupby(['AVG-W2V Clus Label']).groups[i][1]]['Reviews'])\n",
    "    print('\\n')\n",
    "    print(\"_\" * 70)"
   ]
  },
  {
   "cell_type": "markdown",
   "metadata": {
    "id": "cGuzQQDusPL4"
   },
   "source": [
    "In one paragraph, please compare K means, DBSCAN and Hierarchical clustering."
   ]
  },
  {
   "cell_type": "code",
   "execution_count": null,
   "metadata": {
    "id": "cOb6WkmusPL4"
   },
   "outputs": [],
   "source": [
    "#You can write you answer here. (No code needed)\n",
    "\n",
    "The k-means algorithm divides a large dataset into a fixed number of clusters and then generalizes them into different sizes and shapes. It is very suitable to large datasets.\n",
    "DBscan is used to distinguish between clusters with a high density and clusters with a low density. It is suitable for noisy data but not huge data sets.\n",
    "Hierarichal Clustering is used for categorizing objects that are actually groups which are known as clusters. This method finds it a bit difficult to categorize the clusters and not suitable for hyper spherical shaped clusters.\n",
    "\n",
    "\n",
    "\n"
   ]
  }
 ],
 "metadata": {
  "colab": {
   "collapsed_sections": [],
   "include_colab_link": true,
   "name": "In_class_exercise_05-1.ipynb",
   "provenance": []
  },
  "kernelspec": {
   "display_name": "Python 3",
   "language": "python",
   "name": "python3"
  },
  "language_info": {
   "codemirror_mode": {
    "name": "ipython",
    "version": 3
   },
   "file_extension": ".py",
   "mimetype": "text/x-python",
   "name": "python",
   "nbconvert_exporter": "python",
   "pygments_lexer": "ipython3",
   "version": "3.8.8"
  }
 },
 "nbformat": 4,
 "nbformat_minor": 1
}
