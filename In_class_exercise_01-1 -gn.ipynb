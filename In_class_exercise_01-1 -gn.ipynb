{
 "cells": [
  {
   "cell_type": "markdown",
   "metadata": {
    "colab_type": "text",
    "id": "view-in-github"
   },
   "source": [
    "<a href=\"https://colab.research.google.com/github/unt-iialab/INFO5731_Spring2020/blob/master/In_class_exercise/In_class_exercise_01.ipynb\" target=\"_parent\"><img src=\"https://colab.research.google.com/assets/colab-badge.svg\" alt=\"Open In Colab\"/></a>"
   ]
  },
  {
   "cell_type": "markdown",
   "metadata": {
    "colab_type": "text",
    "id": "DymRJbxDBCnf"
   },
   "source": [
    "# **The first In-class-exercise (01/25/2022, 40 points in total)**"
   ]
  },
  {
   "cell_type": "markdown",
   "metadata": {
    "colab_type": "text",
    "id": "03jb4GZsBkBS"
   },
   "source": [
    "(1) Write a Python program to calculate the length of a string. (4 points)"
   ]
  },
  {
   "cell_type": "code",
   "execution_count": 40,
   "metadata": {
    "colab": {},
    "colab_type": "code",
    "id": "YaGLbSHHB8Ej"
   },
   "outputs": [
    {
     "name": "stdout",
     "output_type": "stream",
     "text": [
      "Enter the string: \n",
      "GouthamNeeth\n",
      "The length of string is:12\n"
     ]
    }
   ],
   "source": [
    "# write your answer here\n",
    "\n",
    "print(\"Enter the string: \")\n",
    "x=input()\n",
    "lenofstring=len(x)\n",
    "print('The length of string is:' + str(lenofstring) ) \n",
    "      "
   ]
  },
  {
   "cell_type": "markdown",
   "metadata": {
    "colab_type": "text",
    "id": "jJDe71iLB616"
   },
   "source": [
    "(2) Write a Python program to count the number of characters in a string. (4 points)\n",
    "\n",
    "Sample String : 'google.com‘, \n",
    "\n",
    "Expected Result : {'o': 3, 'g': 2, '.': 1, 'e': 1, 'l': 1, 'm': 1, 'c': 1}"
   ]
  },
  {
   "cell_type": "code",
   "execution_count": 24,
   "metadata": {
    "colab": {},
    "colab_type": "code",
    "id": "MtKskTzbCLaU"
   },
   "outputs": [
    {
     "name": "stdout",
     "output_type": "stream",
     "text": [
      "Result: {'o': 3, 'g': 2, 'l': 1, 'e': 1, '.': 1, 'c': 1, 'm': 1}\n"
     ]
    }
   ],
   "source": [
    "import operator\n",
    "\n",
    "def strdict(string1):\n",
    "  string_dictionary = dict()\n",
    "  for i in string1:\n",
    "    count = 0\n",
    "    for s in string1:\n",
    "      if i == s:\n",
    "        count += 1\n",
    "    string_dictionary[i] = count\n",
    "  sorted_d = dict( sorted(string_dictionary.items(), key=operator.itemgetter(1),reverse=True))\n",
    "  return sorted_d\n",
    "string = \"google.com\"\n",
    "print(\"Result:\", strdict(string))"
   ]
  },
  {
   "cell_type": "markdown",
   "metadata": {
    "colab_type": "text",
    "id": "55W9AMdXCSpV"
   },
   "source": [
    "(3) Write a Python program to sum all the items in a list. (4 points)"
   ]
  },
  {
   "cell_type": "code",
   "execution_count": 5,
   "metadata": {
    "colab": {},
    "colab_type": "code",
    "id": "I57NXsauCec2"
   },
   "outputs": [
    {
     "name": "stdout",
     "output_type": "stream",
     "text": [
      "14\n"
     ]
    }
   ],
   "source": [
    "def sum_items_list(noofitems):  \n",
    "    sumofnumbers = 0  \n",
    "    for x in noofitems:  \n",
    "        sumofnumbers += x  \n",
    "    return sumofnumbers  \n",
    "print(sum_items_list([7,4,3]))"
   ]
  },
  {
   "cell_type": "markdown",
   "metadata": {
    "colab_type": "text",
    "id": "4ulBZ6yhCi9F"
   },
   "source": [
    "(4) Write a Python program to get a string from a given string where all occurrences of its first char have been changed to '\\$', except the first char itself. (4 points)\n",
    "\n",
    "Sample String : 'restart‘, \n",
    "\n",
    "Expected Result : 'resta\\$t'"
   ]
  },
  {
   "cell_type": "code",
   "execution_count": 7,
   "metadata": {
    "colab": {},
    "colab_type": "code",
    "id": "Fj0XhwbBCw2o"
   },
   "outputs": [
    {
     "name": "stdout",
     "output_type": "stream",
     "text": [
      "$esta$t\n"
     ]
    }
   ],
   "source": [
    "# write your answer here\n",
    "def ch_cr(string1):  \n",
    "  character1 = string1[0]  \n",
    "  length = len(string1)  \n",
    "  string1 = string1.replace(character1, '$')  \n",
    "  str1 = character1 + string1[1:]  \n",
    "  \n",
    "  return string1  \n",
    "  \n",
    "print(ch_cr('restart'))"
   ]
  },
  {
   "cell_type": "markdown",
   "metadata": {
    "colab_type": "text",
    "id": "_bIP7s1MCzue"
   },
   "source": [
    "(5) Write a program with python which could accept two parameter a and b to calculate and output the result of S, where \n",
    "\n",
    "$\\ S=3.14*(1+a/b)^3$ (4 points)\n",
    "\n"
   ]
  },
  {
   "cell_type": "code",
   "execution_count": 9,
   "metadata": {
    "colab": {},
    "colab_type": "code",
    "id": "w79QilHXD3Mg"
   },
   "outputs": [
    {
     "name": "stdout",
     "output_type": "stream",
     "text": [
      "Please enter a value for a : 2\n",
      "Please enter a value for b : 3\n",
      " Expected result :  14.537037037037033\n"
     ]
    }
   ],
   "source": [
    "# write your answer here\n",
    "\n",
    "def trial(trial_info):\n",
    "  print(trial_info)\n",
    "  return\n",
    "\n",
    "def evaluate_S(a, b):\n",
    "  if b == 0:\n",
    "    trial(\"Error: Dividing by zero\")\n",
    "  return 3.14 * (1 + a/b)**3\n",
    "val_a = int(input(\"Please enter a value for a : \"))\n",
    "val_b = int(input(\"Please enter a value for b : \"))\n",
    "print(\" Expected result : \", evaluate_S(val_a, val_b))"
   ]
  },
  {
   "cell_type": "markdown",
   "metadata": {
    "colab_type": "text",
    "id": "xCa2bK9aD4Q3"
   },
   "source": [
    "(6) Write a Python program to concatenate following dictionaries to create a new one. (4 points)\n",
    "\n",
    "Sample Dictionary : dic1={1:10, 2:20}, dic2={3:30, 4:40}, dic3={5:50,6:60}, \n",
    "\n",
    "Expected Result : {1: 10, 2: 20, 3: 30, 4: 40, 5: 50, 6: 60}\n"
   ]
  },
  {
   "cell_type": "code",
   "execution_count": 10,
   "metadata": {
    "colab": {},
    "colab_type": "code",
    "id": "_z4aLqAbEET1"
   },
   "outputs": [
    {
     "name": "stdout",
     "output_type": "stream",
     "text": [
      "{1: 10, 2: 20, 3: 30, 4: 40, 5: 50, 6: 60}\n"
     ]
    }
   ],
   "source": [
    "# write your answer here\n",
    "\n",
    "dictionary_1={1:10, 2:20}  \n",
    "dictionary_2={3:30, 4:40}  \n",
    "dictionary_3={5:50,6:60}  \n",
    "dictionary_4 = {}  \n",
    "for d in (dictionary_1, dictionary_2, dictionary_3): dictionary_4.update(d)  \n",
    "print(dictionary_4)"
   ]
  },
  {
   "cell_type": "markdown",
   "metadata": {
    "colab_type": "text",
    "id": "0v48Vqa7FrQh"
   },
   "source": [
    "(7) Write a Python program to check whether an element exists within a tuple. (4 points)"
   ]
  },
  {
   "cell_type": "code",
   "execution_count": 11,
   "metadata": {
    "colab": {},
    "colab_type": "code",
    "id": "7WEmgq-DF2P1"
   },
   "outputs": [
    {
     "name": "stdout",
     "output_type": "stream",
     "text": [
      "True\n",
      "False\n"
     ]
    }
   ],
   "source": [
    "# write your answer here\n",
    "tuple1 = (\"x\", 18, \"n\", \"g\", \"e\", \"t\", \"v\", \"l\", \"q\", \"w\")\n",
    "print(\"g\" in tuple1)\n",
    "print(5 in tuple1)"
   ]
  },
  {
   "cell_type": "markdown",
   "metadata": {
    "colab_type": "text",
    "id": "vD5PYLMuGga_"
   },
   "source": [
    "(8) Write a Python program to find maximum and the minimum value in a set. (4 points)"
   ]
  },
  {
   "cell_type": "code",
   "execution_count": 15,
   "metadata": {
    "colab": {},
    "colab_type": "code",
    "id": "t0D5kdJUGjjw"
   },
   "outputs": [
    {
     "name": "stdout",
     "output_type": "stream",
     "text": [
      "27\n",
      "1\n"
     ]
    }
   ],
   "source": [
    "# write your answer here\n",
    "\n",
    "set_1 = set([27, 24, 24, 18, 1])\n",
    "print(max(set_1))\n",
    "print(min(set_1))\n",
    "      \n"
   ]
  },
  {
   "cell_type": "markdown",
   "metadata": {
    "colab_type": "text",
    "id": "uHkd-y5VhVWC"
   },
   "source": [
    "(9) Write a Python program to randomly divide the students in this class into six groups for term projects, each group should have at least 4 students but no more than 6 students (including 6). Here is the students list: (4 points)\n",
    "\n",
    "studnet_list = ['ja0964','sa1198','sb1357','vb0218','sc1229','kg0569','kg0470','sg1297','bg0320','fh0141','jl1252','sk1386',\n",
    "           'ak0956','sk1390','sk1458','sk1313','ak0934','vm0377','nm0618','sm1640','sm1907','gn0108','pr0353','dr0609','ms1500','aos0040','ds0814', 'av0659','nv0234','hy0232']"
   ]
  },
  {
   "cell_type": "code",
   "execution_count": 39,
   "metadata": {
    "colab": {},
    "colab_type": "code",
    "id": "3iGbmcOBhTwy"
   },
   "outputs": [
    {
     "name": "stdout",
     "output_type": "stream",
     "text": [
      "The Student for Group 1 for the project: \n",
      "nm0618\n",
      "sg1297\n",
      "kg0569\n",
      "sk1458\n",
      "sa1198\n",
      "aos0040\n",
      "The Student for Group 2 for the project: \n",
      "vm0377\n",
      "kg0470\n",
      "dr0609\n",
      "hy0232\n",
      "vb0218\n",
      "fh0141\n",
      "The Student for Group 3 for the project: \n",
      "ms1500\n",
      "nv0234\n",
      "sm1640\n",
      "sk1386\n",
      "ak0934\n",
      "ak0956\n",
      "The Student for Group 4 for the project: \n",
      "av0659\n",
      "sk1390\n",
      "sm1907\n",
      "jl1252\n",
      "ds0814\n",
      "sc1229\n",
      "The Student for Group 5 for the project: \n",
      "bg0320\n",
      "sk1313\n",
      "sb1357\n",
      "gn0108\n",
      "ja0964\n",
      "pr0353\n"
     ]
    }
   ],
   "source": [
    "import random\n",
    "\n",
    "student_list = ['ja0964','sa1198','sb1357','vb0218','sc1229','kg0569','kg0470','sg1297','bg0320','fh0141','jl1252',\n",
    "                'sk1386', 'ak0956','sk1390','sk1458','sk1313','ak0934','vm0377','nm0618','sm1640','sm1907',\n",
    "                'gn0108','pr0353','dr0609','ms1500','aos0040','ds0814', 'av0659','nv0234','hy0232']\n",
    "\n",
    "sizeofgroup=1\n",
    "no_members_in_group=6\n",
    "for student in student_list[:]:              \n",
    "    if no_members_in_group==6:\n",
    "        print(\"The Student for Group {} for the project: \".format(sizeofgroup))\n",
    "        no_members_in_group=0\n",
    "        sizeofgroup += 1\n",
    "    idofperson=random.choice(student_list)\n",
    "    print(idofperson)\n",
    "    no_members_in_group += 1\n",
    "    student_list.remove(str(idofperson))"
   ]
  },
  {
   "cell_type": "markdown",
   "metadata": {},
   "source": [
    "(10) Write a Python program to find the duplicate elements in a given array of integers. Return -1 If there are no such elements. (4 points)"
   ]
  },
  {
   "cell_type": "code",
   "execution_count": 33,
   "metadata": {},
   "outputs": [
    {
     "name": "stdout",
     "output_type": "stream",
     "text": [
      "7\n",
      "-1\n",
      "4\n",
      "3\n"
     ]
    }
   ],
   "source": [
    "# write your answer here\n",
    "\n",
    "def find_duplicate_element(numbers):\n",
    "    number_set = set()\n",
    "    no_of_duplicate = -1\n",
    "    for i in range(len(numbers)):\n",
    "      if numbers[i] in number_set:\n",
    "            return numbers[i]\n",
    "      else:\n",
    "            number_set.add(numbers[i])\n",
    "    return no_of_duplicate\n",
    "print(find_duplicate_element([4, 7, 7, 5, 3, 1]))\n",
    "print(find_duplicate_element([8, 9, 7, 5, 1]))\n",
    "print(find_duplicate_element([2, 4, 3, 4, 5]))\n",
    "print(find_duplicate_element([1, 2, 3, 3, 9, 9, 1, 2]))\n",
    "\n"
   ]
  },
  {
   "cell_type": "markdown",
   "metadata": {},
   "source": [
    "(11) Write a Python program to select all the Sundays of a specified year. (4 extra points)"
   ]
  },
  {
   "cell_type": "code",
   "execution_count": 30,
   "metadata": {},
   "outputs": [
    {
     "name": "stdout",
     "output_type": "stream",
     "text": [
      "2019-01-06\n",
      "2019-01-13\n",
      "2019-01-20\n",
      "2019-01-27\n",
      "2019-02-03\n",
      "2019-02-10\n",
      "2019-02-17\n",
      "2019-02-24\n",
      "2019-03-03\n",
      "2019-03-10\n",
      "2019-03-17\n",
      "2019-03-24\n",
      "2019-03-31\n",
      "2019-04-07\n",
      "2019-04-14\n",
      "2019-04-21\n",
      "2019-04-28\n",
      "2019-05-05\n",
      "2019-05-12\n",
      "2019-05-19\n",
      "2019-05-26\n",
      "2019-06-02\n",
      "2019-06-09\n",
      "2019-06-16\n",
      "2019-06-23\n",
      "2019-06-30\n",
      "2019-07-07\n",
      "2019-07-14\n",
      "2019-07-21\n",
      "2019-07-28\n",
      "2019-08-04\n",
      "2019-08-11\n",
      "2019-08-18\n",
      "2019-08-25\n",
      "2019-09-01\n",
      "2019-09-08\n",
      "2019-09-15\n",
      "2019-09-22\n",
      "2019-09-29\n",
      "2019-10-06\n",
      "2019-10-13\n",
      "2019-10-20\n",
      "2019-10-27\n",
      "2019-11-03\n",
      "2019-11-10\n",
      "2019-11-17\n",
      "2019-11-24\n",
      "2019-12-01\n",
      "2019-12-08\n",
      "2019-12-15\n",
      "2019-12-22\n",
      "2019-12-29\n"
     ]
    }
   ],
   "source": [
    "# write your answer here\n",
    "\n",
    "\n",
    "from datetime import date, timedelta\n",
    "def noofsundays(year):\n",
    "       date_1 = date(year, 1, 1)       \n",
    "       date_1 += timedelta(days = 6 - date_1.weekday())  \n",
    "       while date_1.year == year:\n",
    "          yield date_1\n",
    "          date_1 += timedelta(days = 7)\n",
    "for sunday in noofsundays(2019):\n",
    "   print(sunday)"
   ]
  }
 ],
 "metadata": {
  "colab": {
   "collapsed_sections": [],
   "include_colab_link": true,
   "name": "In_class_exercise_01.ipynb",
   "provenance": []
  },
  "kernelspec": {
   "display_name": "Python 3",
   "language": "python",
   "name": "python3"
  }
 },
 "nbformat": 4,
 "nbformat_minor": 1
}
